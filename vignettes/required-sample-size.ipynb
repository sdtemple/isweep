{
 "cells": [
  {
   "cell_type": "markdown",
   "id": "d7f70df7-4130-42ea-a600-d7d7cc67d95e",
   "metadata": {},
   "source": [
    "# Determine the sample size for estimation\n",
    "\n",
    "You can use this notebook to evaluate the accuracy of the selection coefficient estimator for:\n",
    "- Difference selection coefficients\n",
    "- Any demographic scenario\n",
    "- Different allele frequencies\n",
    "- Different sample sizes\n",
    "- Different cM length thresholds\n",
    "- Different genic selection models (additive vs. dominance)\n",
    "\n",
    "In general, the sample size required will depend on:\n",
    "- Different cM length threshold (fewer samples required, but hard to infer in real data)\n",
    "- Demographic scenario (fewer samples required, but more variance)\n",
    "- Selection coefficient (fewer samples required, but s >= 0.05 unlikely in many species)\n",
    "\n",
    "You can modify the for loops to explore different:\n",
    "- Sweeping allele frequencies\n",
    "- cM length thresholds\n",
    "- Demographic scenarios\n",
    "\n",
    "We show the former two in our paper."
   ]
  },
  {
   "cell_type": "code",
   "execution_count": 1,
   "id": "1009526b-cc3c-4957-b35e-c92f2e873950",
   "metadata": {},
   "outputs": [],
   "source": [
    "from isweep import *\n",
    "import matplotlib.pyplot as plt\n",
    "import seaborn as sns\n",
    "plt.rc('font',size=16)"
   ]
  },
  {
   "cell_type": "markdown",
   "id": "1c41fd54-4b5e-400d-8740-66251c75b71d",
   "metadata": {},
   "source": [
    "### Set up the defaults"
   ]
  },
  {
   "cell_type": "code",
   "execution_count": 2,
   "id": "a30860fa-b56f-4e3a-b60c-4d86f9067622",
   "metadata": {},
   "outputs": [],
   "source": [
    "ss = [0.01,0.02,0.03,0.04] # selection coefficients\n",
    "p = 0.5 # allele frequency\n",
    "Ne = read_Ne('constant-10k.ne') # population size\n",
    "\n",
    "long_length = 3. # cM threshold for selection coefficient estimation\n",
    "short_length = long_length\n",
    "model = 'a' # additive"
   ]
  },
  {
   "cell_type": "markdown",
   "id": "9368e6fb-be41-405a-bf84-26e62d59d700",
   "metadata": {},
   "source": [
    "### Explore different sample sizes\n",
    "\n",
    "Make a list in the following code block.\n",
    "\n",
    "You loop over these sample sizes for different coefficients.\n",
    "\n",
    "You then evaluate point estimates change as sample size changes.\n",
    "\n",
    "Expect the second code block to run for a few minutes. \n",
    "\n",
    "If sample size <= 2000, this analysis should be reasonable for a personal laptop."
   ]
  },
  {
   "cell_type": "code",
   "execution_count": 3,
   "id": "ec0667a3-9fdb-41b6-9419-7278155d5f96",
   "metadata": {},
   "outputs": [],
   "source": [
    "# choose sample size\n",
    "ns = [50,100,200,400]\n",
    "\n",
    "K = 100 # number of simulations for each sample size + selection coefficient"
   ]
  },
  {
   "cell_type": "code",
   "execution_count": 4,
   "id": "b077dcbf-00bf-4636-a36f-12ee57700191",
   "metadata": {},
   "outputs": [
    {
     "name": "stdout",
     "output_type": "stream",
     "text": [
      "100\n",
      "200\n",
      "400\n"
     ]
    },
    {
     "data": {
      "text/html": [
       "<div>\n",
       "<style scoped>\n",
       "    .dataframe tbody tr th:only-of-type {\n",
       "        vertical-align: middle;\n",
       "    }\n",
       "\n",
       "    .dataframe tbody tr th {\n",
       "        vertical-align: top;\n",
       "    }\n",
       "\n",
       "    .dataframe thead th {\n",
       "        text-align: right;\n",
       "    }\n",
       "</style>\n",
       "<table border=\"1\" class=\"dataframe\">\n",
       "  <thead>\n",
       "    <tr style=\"text-align: right;\">\n",
       "      <th></th>\n",
       "      <th>truth</th>\n",
       "      <th>estimate</th>\n",
       "      <th>sample_size</th>\n",
       "    </tr>\n",
       "  </thead>\n",
       "  <tbody>\n",
       "    <tr>\n",
       "      <th>0</th>\n",
       "      <td>0.01</td>\n",
       "      <td>0.005193</td>\n",
       "      <td>50</td>\n",
       "    </tr>\n",
       "    <tr>\n",
       "      <th>1</th>\n",
       "      <td>0.01</td>\n",
       "      <td>0.039997</td>\n",
       "      <td>50</td>\n",
       "    </tr>\n",
       "    <tr>\n",
       "      <th>2</th>\n",
       "      <td>0.01</td>\n",
       "      <td>0.000005</td>\n",
       "      <td>50</td>\n",
       "    </tr>\n",
       "    <tr>\n",
       "      <th>3</th>\n",
       "      <td>0.01</td>\n",
       "      <td>0.020781</td>\n",
       "      <td>50</td>\n",
       "    </tr>\n",
       "    <tr>\n",
       "      <th>4</th>\n",
       "      <td>0.01</td>\n",
       "      <td>0.000005</td>\n",
       "      <td>50</td>\n",
       "    </tr>\n",
       "  </tbody>\n",
       "</table>\n",
       "</div>"
      ],
      "text/plain": [
       "   truth  estimate  sample_size\n",
       "0   0.01  0.005193           50\n",
       "1   0.01  0.039997           50\n",
       "2   0.01  0.000005           50\n",
       "3   0.01  0.020781           50\n",
       "4   0.01  0.000005           50"
      ]
     },
     "execution_count": 4,
     "metadata": {},
     "output_type": "execute_result"
    }
   ],
   "source": [
    "n = ns[0]\n",
    "selests = []\n",
    "truths = []\n",
    "m = (2 * n)\n",
    "M = m * (m-1) / 2 - m\n",
    "for i in range(len(ss)):\n",
    "    s = ss[i]\n",
    "    # print(s)\n",
    "    for k in range(K):\n",
    "        out = simulate_ibd_isweep(n,s,p,Ne,long_length,short_length,one_step_model=model)\n",
    "        numibd = out[0][0]\n",
    "        sol = minimize_scalar(chi2_isweep,\n",
    "                        args=(p,Ne,M,(numibd,),(long_length,np.inf),model,0,-0.01,2),\n",
    "                        bounds=(0,0.5),\n",
    "                        method='bounded'\n",
    "                       )\n",
    "        est = sol.x\n",
    "        selests.append(est)\n",
    "        truths.append(s)\n",
    "datatable = dict()\n",
    "datatable['truth'] = truths\n",
    "datatable['estimate'] = selests\n",
    "table = pd.DataFrame(datatable)\n",
    "table['sample_size'] = n\n",
    "\n",
    "\n",
    "for n in ns[1:]:\n",
    "    selests = []\n",
    "    truths = []\n",
    "    m = (2 * n)\n",
    "    M = m * (m-1) / 2 - m\n",
    "    print(n)\n",
    "    for i in range(len(ss)):\n",
    "        s = ss[i]\n",
    "        # print(s)\n",
    "        for k in range(K):\n",
    "            out = simulate_ibd_isweep(n,s,p,Ne,long_length,short_length,one_step_model=model)\n",
    "            numibd = out[0][0]\n",
    "            sol = minimize_scalar(chi2_isweep,\n",
    "                            args=(p,Ne,M,(numibd,),(long_length,np.inf),model,0,-0.01,2),\n",
    "                            bounds=(0,0.5),\n",
    "                            method='bounded'\n",
    "                           )\n",
    "            est = sol.x\n",
    "            selests.append(est)\n",
    "            truths.append(s)\n",
    "    datatable = dict()\n",
    "    datatable['truth'] = truths\n",
    "    datatable['estimate'] = selests\n",
    "    table1 = pd.DataFrame(datatable)\n",
    "    table1['sample_size'] = n\n",
    "    table = pd.concat((table,table1))\n",
    "table.head()"
   ]
  },
  {
   "cell_type": "markdown",
   "id": "e10706bc-f02b-4fdd-ada3-a452131687a2",
   "metadata": {},
   "source": [
    "## Plotting the results\n",
    "\n",
    "Now, we graphically consider the results. Below we show a boxplot.\n",
    "\n",
    "As sample size increases, the selection coefficient point estimates get closer to the truth.\n",
    "- The average estimate is close to the truth\n",
    "- The variance of point estimates decreases\n",
    "\n",
    "Note that estimating s <= 0.01 is difficult."
   ]
  },
  {
   "cell_type": "code",
   "execution_count": 5,
   "id": "89bac505-57a7-443f-9471-ac3ca34ed60c",
   "metadata": {},
   "outputs": [],
   "source": [
    "yupp = 0.08 # upper bound on y-axis\n",
    "ylow = -0.005 # lower bound on y-axis"
   ]
  },
  {
   "cell_type": "code",
   "execution_count": 6,
   "id": "12490e03-80f0-4473-8bc4-aaceb5d6250c",
   "metadata": {},
   "outputs": [
    {
     "data": {
      "image/png": "[encoded data removed]",
      "text/plain": [
       "<Figure size 640x480 with 1 Axes>"
      ]
     },
     "metadata": {},
     "output_type": "display_data"
    }
   ],
   "source": [
    "sns.boxplot(data=table,\n",
    "              x='truth',\n",
    "              y='estimate',\n",
    "              hue='sample_size',\n",
    "              palette='Wistia',\n",
    "              showfliers=False,\n",
    "                whis=[10,90],\n",
    "            width=0.5,\n",
    "            gap=0.05,\n",
    "            fliersize=1,\n",
    "             )\n",
    "\n",
    "plt.legend(loc='upper left',\n",
    "           title='Sample size',\n",
    "           ncol=2\n",
    "          )\n",
    "plt.ylim(ylow,yupp)\n",
    "plt.xlabel('Selection coefficient')\n",
    "plt.ylabel('Estimate')\n",
    "plt.grid(alpha=0.33)"
   ]
  }
 ],
 "metadata": {
  "kernelspec": {
   "display_name": "Python 3 (ipykernel)",
   "language": "python",
   "name": "python3"
  },
  "language_info": {
   "codemirror_mode": {
    "name": "ipython",
    "version": 3
   },
   "file_extension": ".py",
   "mimetype": "text/x-python",
   "name": "python",
   "nbconvert_exporter": "python",
   "pygments_lexer": "ipython3",
   "version": "3.12.0"
  }
 },
 "nbformat": 4,
 "nbformat_minor": 5
}
