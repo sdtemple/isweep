{
 "cells": [
  {
   "cell_type": "markdown",
   "id": "b9f4105f-1011-4443-9b24-401a736c8536",
   "metadata": {},
   "source": [
    "# Example: estimating selection coefficients"
   ]
  },
  {
   "cell_type": "code",
   "execution_count": 1,
   "id": "cee53694-fcc2-4e11-8353-4fccc950d8ec",
   "metadata": {},
   "outputs": [],
   "source": [
    "from isweep import *"
   ]
  },
  {
   "cell_type": "markdown",
   "id": "19871f94-7d98-40a7-91d2-8c2a37e5aaf3",
   "metadata": {},
   "source": [
    "### This is the main function you use to simulate IBD segments from a hard selective sweep."
   ]
  },
  {
   "cell_type": "code",
   "execution_count": 2,
   "id": "19a0094d-7f51-459d-a509-f55e73461c5d",
   "metadata": {},
   "outputs": [
    {
     "name": "stdout",
     "output_type": "stream",
     "text": [
      "Help on function simulate_ibd_isweep in module isweep.coalescent:\n",
      "\n",
      "simulate_ibd_isweep(n, s, p0, Ne, long_ibd=2.0, short_ibd=1.0, random_walk=True, one_step_model='a', tau0=0, sv=-0.01, ploidy=2, record_dist=True, pairwise_output=True)\n",
      "    ibd segments from a coalescent with selection\n",
      "\n",
      "    Parameters\n",
      "    ----------\n",
      "    n : int\n",
      "        Sample size (individuals)\n",
      "    s : float\n",
      "        Selection coefficient\n",
      "    p0 : float\n",
      "        Variant frequency at generation 0\n",
      "    Ne : dict\n",
      "        Effective population sizes\n",
      "    long_ibd, short_ibd : float\n",
      "        cM length threshold\n",
      "    random_walk : bool\n",
      "        True for random walk\n",
      "    one_step_model : str\n",
      "        'm', 'a', 'd', or 'r'\n",
      "    tau0 : int\n",
      "        Generation when neutrality begins\n",
      "    sv: float\n",
      "        Allele frequency of standing variation\n",
      "        (Default -0.01 will assume de novo sweep)\n",
      "    ploidy : int\n",
      "        1 for haploid or 2 for diploid\n",
      "    record_dist : bool\n",
      "        To save tract length and coalescent time distributions or not to (default True)\n",
      "    pairwise_output : bool\n",
      "        To save pairwise segments or not to (default True)\n",
      "\n",
      "    Returns\n",
      "    -------\n",
      "    tuple(s)\n",
      "        (all, adaptive allele, non-adaptive allele) then pairwise segments\n",
      "        Each tuple is (number of tracts, group sizes, length distr., time distr., count distr.)\n",
      "\n"
     ]
    }
   ],
   "source": [
    "help(simulate_ibd_isweep)"
   ]
  },
  {
   "cell_type": "markdown",
   "id": "bc6d67dd-9cfb-4f63-a174-6113636abc38",
   "metadata": {},
   "source": [
    "### This is the main function you optimize over to estimate the selection coefficient."
   ]
  },
  {
   "cell_type": "code",
   "execution_count": 3,
   "id": "d014f9df-7771-4cae-9c4d-8253c42415de",
   "metadata": {},
   "outputs": [
    {
     "name": "stdout",
     "output_type": "stream",
     "text": [
      "Help on function chi2_isweep in module isweep.inference:\n",
      "\n",
      "chi2_isweep(s, p0, Ne, n, obs, ab, one_step_model='a', tau0=0, sv=-0.01, ploidy=2)\n",
      "    Chi-squared statistic for sweep model (unlabeled)\n",
      "\n",
      "    Parameters\n",
      "    ----------\n",
      "    s : float\n",
      "        Selection coefficient\n",
      "    p0 : float\n",
      "        Variant frequency at generation 0\n",
      "    Ne : dict\n",
      "        Effective population sizes\n",
      "    n : int\n",
      "        Pairs sample size\n",
      "    obs : array-like\n",
      "        Observed counts for ibd segment bins (unlabeled)\n",
      "    ab : array-like\n",
      "        Increasing floats in centiMorgans\n",
      "    one_step_model : str\n",
      "        'm', 'a', 'd', or 'r'\n",
      "    tau0 : int\n",
      "        Generation at which neutrality begins\n",
      "    sv: float\n",
      "        Allele frequency of standing variation\n",
      "        (Default -0.01 will assume de novo sweep)\n",
      "    ploidy : int\n",
      "        1 for haploid or 2 for diploid\n",
      "\n",
      "    Returns\n",
      "    -------\n",
      "    float\n",
      "        Goodness-of-fit statistic\n",
      "\n"
     ]
    }
   ],
   "source": [
    "help(chi2_isweep)"
   ]
  },
  {
   "cell_type": "markdown",
   "id": "d9551830-cd36-463d-b650-5ac760e31eb3",
   "metadata": {},
   "source": [
    "### Making effective population sizes file"
   ]
  },
  {
   "cell_type": "code",
   "execution_count": 4,
   "id": "dc104ca0-a8dd-4e43-ac2e-0ba845c885d9",
   "metadata": {},
   "outputs": [
    {
     "name": "stdout",
     "output_type": "stream",
     "text": [
      "Help on function make_constant_Ne in module isweep.utilities:\n",
      "\n",
      "make_constant_Ne(file, size, maxg)\n",
      "    Create *.ne file for constant size population\n",
      "\n",
      "    Parameters\n",
      "    ----------\n",
      "    file: str\n",
      "        Output file name\n",
      "    size : float\n",
      "        Effective population size\n",
      "    maxg : int\n",
      "        Maximum generation\n",
      "\n",
      "    Returns\n",
      "    -------\n",
      "    NoneType\n",
      "        Writes a *.ne file\n",
      "\n"
     ]
    }
   ],
   "source": [
    "help(make_constant_Ne)\n",
    "# make_exponential_Ne('decreasing-N3000-R0.04.ne', 3000, [300], [0.04])\n",
    "# extend_Ne"
   ]
  },
  {
   "cell_type": "code",
   "execution_count": 159,
   "id": "d7bfb75e-0316-4aff-9305-cd682b6f52a7",
   "metadata": {},
   "outputs": [],
   "source": [
    "make_constant_Ne('constant-10k.ne', 10000, 2000)"
   ]
  },
  {
   "cell_type": "markdown",
   "id": "6beecf69-75b1-4640-9ce1-7c3972ca81a5",
   "metadata": {},
   "source": [
    "### Setup"
   ]
  },
  {
   "cell_type": "code",
   "execution_count": 165,
   "id": "6d828a04-36b8-405f-8d2b-46a40f1b92ea",
   "metadata": {},
   "outputs": [],
   "source": [
    "# selection coefficient\n",
    "s = 0.03\n",
    "\n",
    "p=float(0.5) # allele freq\n",
    "Ne=read_Ne('constant-10k.ne') # demo history\n",
    "model='m'\n",
    "long_ibd=3.0\n",
    "ab=[long_ibd,np.inf]\n",
    "nsamples=200\n",
    "\n",
    "# diploids\n",
    "ploidy=2\n",
    "msamples=ploidy*nsamples\n",
    "N=msamples*(msamples-1)/2-msamples\n",
    "\n",
    "# # haploidy\n",
    "# ploidy=1\n",
    "# msamples=ploidy*nsamples\n",
    "# N=msamples*(msamples-1)/2"
   ]
  },
  {
   "cell_type": "markdown",
   "id": "b950448b-6463-4999-8e06-5300d396729c",
   "metadata": {},
   "source": [
    "### Point estimate a selection coefficient"
   ]
  },
  {
   "cell_type": "code",
   "execution_count": 166,
   "id": "9413e688-5096-4259-a3a8-215f7b3c1c3d",
   "metadata": {},
   "outputs": [
    {
     "name": "stdout",
     "output_type": "stream",
     "text": [
      "true selection coefficient\n",
      "0.03\n",
      "estimate selection coefficient\n",
      "0.03644378240753399\n"
     ]
    }
   ],
   "source": [
    "out=simulate_ibd_isweep(\n",
    "    nsamples,\n",
    "    s,\n",
    "    p,\n",
    "    Ne,\n",
    "    long_ibd,\n",
    "    long_ibd,\n",
    "    one_step_model=model,\n",
    "    ploidy=ploidy,\n",
    ")\n",
    "ibd=out[0][0]\n",
    "se = minimize_scalar(\n",
    "    chi2_isweep,\n",
    "    args=(p,Ne,N,(ibd,),ab,model,0,-0.01,ploidy),\n",
    "    bounds=(0,0.5),\n",
    "    method='bounded'\n",
    ").x\n",
    "print('true selection coefficient')\n",
    "print(s)\n",
    "print('estimate selection coefficient')\n",
    "print(se)"
   ]
  },
  {
   "cell_type": "markdown",
   "id": "8ba726d3-a9b7-491e-aa1c-940dfa6f5b68",
   "metadata": {},
   "source": [
    "### Selection coefficient confidence interval"
   ]
  },
  {
   "cell_type": "code",
   "execution_count": 167,
   "id": "4fa12442-f83e-48de-a464-3ae8df748d12",
   "metadata": {},
   "outputs": [
    {
     "name": "stdout",
     "output_type": "stream",
     "text": [
      "9\n",
      "19\n",
      "29\n",
      "39\n",
      "49\n",
      "59\n",
      "69\n",
      "79\n",
      "89\n",
      "99\n"
     ]
    },
    {
     "data": {
      "text/plain": [
       "(0.00749035618472255, 0.04496696320884709)"
      ]
     },
     "execution_count": 167,
     "metadata": {},
     "output_type": "execute_result"
    }
   ],
   "source": [
    "K = 100 # bootstrap number\n",
    "\n",
    "ests1 = []\n",
    "for k in range(K):\n",
    "    if ((k+1) % 10) == 0:\n",
    "        print(k)\n",
    "    out=simulate_ibd_isweep(\n",
    "    nsamples,\n",
    "    s,\n",
    "    p,\n",
    "    Ne,\n",
    "    long_ibd,\n",
    "    long_ibd,\n",
    "    one_step_model=model,\n",
    "    ploidy=ploidy,\n",
    "    )\n",
    "    ibd=out[0][0]\n",
    "    se = minimize_scalar(\n",
    "        chi2_isweep,\n",
    "        args=(p,Ne,N,(ibd,),ab,model,0,-0.01,ploidy),\n",
    "        bounds=(0,1.),\n",
    "        method='bounded'\n",
    "    ).x\n",
    "    ests1.append(se)\n",
    "\n",
    "# +- 2 * sigma is close to the symmetric 95% confidence interval\n",
    "# assuming data is normally distributed\n",
    "(np.mean(ests1)-2*np.std(ests1),np.mean(ests1)+2*np.std(ests1))"
   ]
  }
 ],
 "metadata": {
  "kernelspec": {
   "display_name": "Python 3 (ipykernel)",
   "language": "python",
   "name": "python3"
  },
  "language_info": {
   "codemirror_mode": {
    "name": "ipython",
    "version": 3
   },
   "file_extension": ".py",
   "mimetype": "text/x-python",
   "name": "python",
   "nbconvert_exporter": "python",
   "pygments_lexer": "ipython3",
   "version": "3.12.0"
  }
 },
 "nbformat": 4,
 "nbformat_minor": 5
}
