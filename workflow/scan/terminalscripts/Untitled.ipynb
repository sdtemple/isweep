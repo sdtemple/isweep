{
 "cells": [
  {
   "cell_type": "code",
   "execution_count": 12,
   "id": "a48fd088",
   "metadata": {},
   "outputs": [],
   "source": [
    "import matplotlib.pyplot as plt\n",
    "import pandas as pd\n",
    "import numpy as np"
   ]
  },
  {
   "cell_type": "code",
   "execution_count": 4,
   "id": "f2c0d8d7",
   "metadata": {},
   "outputs": [],
   "source": [
    "genmap=pd.read_csv('chr20.map',sep='\\t', header=None)"
   ]
  },
  {
   "cell_type": "code",
   "execution_count": 5,
   "id": "59ae50c1",
   "metadata": {},
   "outputs": [
    {
     "data": {
      "text/html": [
       "<div>\n",
       "<style scoped>\n",
       "    .dataframe tbody tr th:only-of-type {\n",
       "        vertical-align: middle;\n",
       "    }\n",
       "\n",
       "    .dataframe tbody tr th {\n",
       "        vertical-align: top;\n",
       "    }\n",
       "\n",
       "    .dataframe thead th {\n",
       "        text-align: right;\n",
       "    }\n",
       "</style>\n",
       "<table border=\"1\" class=\"dataframe\">\n",
       "  <thead>\n",
       "    <tr style=\"text-align: right;\">\n",
       "      <th></th>\n",
       "      <th>0</th>\n",
       "      <th>1</th>\n",
       "      <th>2</th>\n",
       "      <th>3</th>\n",
       "    </tr>\n",
       "  </thead>\n",
       "  <tbody>\n",
       "    <tr>\n",
       "      <th>0</th>\n",
       "      <td>chr20</td>\n",
       "      <td>.</td>\n",
       "      <td>0.000000e+00</td>\n",
       "      <td>584249</td>\n",
       "    </tr>\n",
       "    <tr>\n",
       "      <th>1</th>\n",
       "      <td>chr20</td>\n",
       "      <td>.</td>\n",
       "      <td>1.542146e-61</td>\n",
       "      <td>584433</td>\n",
       "    </tr>\n",
       "    <tr>\n",
       "      <th>2</th>\n",
       "      <td>chr20</td>\n",
       "      <td>.</td>\n",
       "      <td>3.935650e-07</td>\n",
       "      <td>585289</td>\n",
       "    </tr>\n",
       "    <tr>\n",
       "      <th>3</th>\n",
       "      <td>chr20</td>\n",
       "      <td>.</td>\n",
       "      <td>4.965258e-07</td>\n",
       "      <td>585341</td>\n",
       "    </tr>\n",
       "    <tr>\n",
       "      <th>4</th>\n",
       "      <td>chr20</td>\n",
       "      <td>.</td>\n",
       "      <td>1.494542e-05</td>\n",
       "      <td>588315</td>\n",
       "    </tr>\n",
       "    <tr>\n",
       "      <th>...</th>\n",
       "      <td>...</td>\n",
       "      <td>...</td>\n",
       "      <td>...</td>\n",
       "      <td>...</td>\n",
       "    </tr>\n",
       "    <tr>\n",
       "      <th>31420</th>\n",
       "      <td>chr20</td>\n",
       "      <td>.</td>\n",
       "      <td>1.077570e+02</td>\n",
       "      <td>63770545</td>\n",
       "    </tr>\n",
       "    <tr>\n",
       "      <th>31421</th>\n",
       "      <td>chr20</td>\n",
       "      <td>.</td>\n",
       "      <td>1.077570e+02</td>\n",
       "      <td>63770719</td>\n",
       "    </tr>\n",
       "    <tr>\n",
       "      <th>31422</th>\n",
       "      <td>chr20</td>\n",
       "      <td>.</td>\n",
       "      <td>1.077570e+02</td>\n",
       "      <td>63771507</td>\n",
       "    </tr>\n",
       "    <tr>\n",
       "      <th>31423</th>\n",
       "      <td>chr20</td>\n",
       "      <td>.</td>\n",
       "      <td>1.077590e+02</td>\n",
       "      <td>63773063</td>\n",
       "    </tr>\n",
       "    <tr>\n",
       "      <th>31424</th>\n",
       "      <td>chr20</td>\n",
       "      <td>.</td>\n",
       "      <td>1.077590e+02</td>\n",
       "      <td>63774607</td>\n",
       "    </tr>\n",
       "  </tbody>\n",
       "</table>\n",
       "<p>31425 rows × 4 columns</p>\n",
       "</div>"
      ],
      "text/plain": [
       "           0  1             2         3\n",
       "0      chr20  .  0.000000e+00    584249\n",
       "1      chr20  .  1.542146e-61    584433\n",
       "2      chr20  .  3.935650e-07    585289\n",
       "3      chr20  .  4.965258e-07    585341\n",
       "4      chr20  .  1.494542e-05    588315\n",
       "...      ... ..           ...       ...\n",
       "31420  chr20  .  1.077570e+02  63770545\n",
       "31421  chr20  .  1.077570e+02  63770719\n",
       "31422  chr20  .  1.077570e+02  63771507\n",
       "31423  chr20  .  1.077590e+02  63773063\n",
       "31424  chr20  .  1.077590e+02  63774607\n",
       "\n",
       "[31425 rows x 4 columns]"
      ]
     },
     "execution_count": 5,
     "metadata": {},
     "output_type": "execute_result"
    }
   ],
   "source": [
    "genmap"
   ]
  },
  {
   "cell_type": "code",
   "execution_count": 60,
   "id": "d9690808",
   "metadata": {},
   "outputs": [],
   "source": [
    "genmapsub=genmap[(genmap[3]>50000000)*(genmap[3]<51000000)]\n",
    "genmapsub.reset_index(inplace=True)"
   ]
  },
  {
   "cell_type": "code",
   "execution_count": 61,
   "id": "fd6396de",
   "metadata": {},
   "outputs": [],
   "source": [
    "cmsdiff=[]\n",
    "bpsdiff=[]\n",
    "J=genmapsub.shape[0]-1\n",
    "arr=genmapsub[2]\n",
    "arr2=genmapsub[3]\n",
    "for j in range(J):\n",
    "    cmdiff=arr[j+1]-arr[j]\n",
    "    bpdiff=arr2[j+1]-arr[j]\n",
    "    cmsdiff.append(cmdiff)\n",
    "    bpsdiff.append(bpdiff)"
   ]
  },
  {
   "cell_type": "code",
   "execution_count": 62,
   "id": "22243060",
   "metadata": {},
   "outputs": [],
   "source": [
    "diffs=np.array(cmsdiff)/np.array(bpsdiff)"
   ]
  },
  {
   "cell_type": "code",
   "execution_count": 65,
   "id": "72d37d6d",
   "metadata": {},
   "outputs": [
    {
     "data": {
      "text/plain": [
       "Text(0.5, 0, 'bp position')"
      ]
     },
     "execution_count": 65,
     "metadata": {},
     "output_type": "execute_result"
    },
    {
     "data": {
      "image/png": "[encoded data removed]",
      "text/plain": [
       "<Figure size 640x480 with 1 Axes>"
      ]
     },
     "metadata": {},
     "output_type": "display_data"
    }
   ],
   "source": [
    "plt.scatter(genmapsub[3][:-1],diffs,s=3)\n",
    "plt.ylabel('cM / bp')\n",
    "plt.xlabel('bp position')"
   ]
  },
  {
   "cell_type": "code",
   "execution_count": 37,
   "id": "43375aab",
   "metadata": {},
   "outputs": [
    {
     "data": {
      "text/plain": [
       "array([0.00000000e+00, 2.66453526e-15, 1.99729122e-13, ...,\n",
       "       0.00000000e+00, 4.10782519e-15, 0.00000000e+00])"
      ]
     },
     "execution_count": 37,
     "metadata": {},
     "output_type": "execute_result"
    }
   ],
   "source": [
    "rho2"
   ]
  }
 ],
 "metadata": {
  "kernelspec": {
   "display_name": "Python 3 (ipykernel)",
   "language": "python",
   "name": "python3"
  },
  "language_info": {
   "codemirror_mode": {
    "name": "ipython",
    "version": 3
   },
   "file_extension": ".py",
   "mimetype": "text/x-python",
   "name": "python",
   "nbconvert_exporter": "python",
   "pygments_lexer": "ipython3",
   "version": "3.8.8"
  }
 },
 "nbformat": 4,
 "nbformat_minor": 5
}
