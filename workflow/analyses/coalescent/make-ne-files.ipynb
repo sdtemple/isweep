{
 "cells": [
  {
   "cell_type": "code",
   "execution_count": 1,
   "id": "f37f2e9a",
   "metadata": {},
   "outputs": [],
   "source": [
    "from isweep import *"
   ]
  },
  {
   "cell_type": "code",
   "execution_count": 2,
   "id": "20668144",
   "metadata": {},
   "outputs": [
    {
     "name": "stdout",
     "output_type": "stream",
     "text": [
      "Help on function extend_Ne in module isweep.cis.cisUtilities:\n",
      "\n",
      "extend_Ne(file, maxg, output)\n",
      "    Extend *.ne file\n",
      "    \n",
      "    Constant size until user-specificied generation. Creates a new file.\n",
      "    \n",
      "    Parameters\n",
      "    ----------\n",
      "    file : str\n",
      "        Input file name\n",
      "    maxg : int\n",
      "        Maximum generation\n",
      "    output : str\n",
      "        Output file name\n",
      "    \n",
      "    Returns\n",
      "    -------\n",
      "    NoneType\n",
      "        Writes a *.ne file\n",
      "\n"
     ]
    }
   ],
   "source": [
    "help(extend_Ne)"
   ]
  },
  {
   "cell_type": "code",
   "execution_count": 4,
   "id": "36f76381",
   "metadata": {},
   "outputs": [
    {
     "name": "stdout",
     "output_type": "stream",
     "text": [
      "Help on function make_constant_Ne in module iSWEEP.cis.cisUtilities:\n",
      "\n",
      "make_constant_Ne(file, size, maxg)\n",
      "    Create *.ne file for constant size population\n",
      "    \n",
      "    Parameters\n",
      "    ----------\n",
      "    file: str\n",
      "        Output file name\n",
      "    size : float\n",
      "        Effective population size\n",
      "    maxg : int\n",
      "        Maximum generation\n",
      "        \n",
      "    Returns\n",
      "    -------\n",
      "    NoneType\n",
      "        Writes a *.ne file\n",
      "\n"
     ]
    }
   ],
   "source": [
    "help(make_constant_Ne)"
   ]
  },
  {
   "cell_type": "code",
   "execution_count": 5,
   "id": "81573627",
   "metadata": {},
   "outputs": [],
   "source": [
    "make_constant_Ne('constant-50k-500G.ne', 50000, 500)"
   ]
  },
  {
   "cell_type": "code",
   "execution_count": 6,
   "id": "4a169686",
   "metadata": {},
   "outputs": [],
   "source": [
    "make_constant_Ne('constant-50k-2000G.ne', 50000, 2000)"
   ]
  },
  {
   "cell_type": "code",
   "execution_count": 8,
   "id": "1e310dab",
   "metadata": {},
   "outputs": [],
   "source": [
    "extend_Ne('bottleneck.ne', 1000, 'bottleneck-1000G.ne')"
   ]
  }
 ],
 "metadata": {
  "kernelspec": {
   "display_name": "Python 3 (ipykernel)",
   "language": "python",
   "name": "python3"
  },
  "language_info": {
   "codemirror_mode": {
    "name": "ipython",
    "version": 3
   },
   "file_extension": ".py",
   "mimetype": "text/x-python",
   "name": "python",
   "nbconvert_exporter": "python",
   "pygments_lexer": "ipython3",
   "version": "3.11.2"
  }
 },
 "nbformat": 4,
 "nbformat_minor": 5
}
