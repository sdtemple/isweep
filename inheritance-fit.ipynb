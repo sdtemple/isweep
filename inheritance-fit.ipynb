{
 "cells": [
  {
   "cell_type": "code",
   "execution_count": 1,
   "id": "e9cc0ab4",
   "metadata": {},
   "outputs": [],
   "source": [
    "from isweep import *"
   ]
  },
  {
   "cell_type": "code",
   "execution_count": 82,
   "id": "7146247c",
   "metadata": {},
   "outputs": [],
   "source": [
    "s=0.03\n",
    "p=0.5\n",
    "Me='auxillary/ne/bottleneck-1000G.ne'\n",
    "Ne=read_Ne(Me)\n",
    "long_ibd=3.0\n",
    "n=5e3\n",
    "N=2*n*(2*n-1)/2\n",
    "ab=[long_ibd,np.inf]\n",
    "exbins='auxillary/bins/example.bins'\n",
    "exb=read_bins(exbins)"
   ]
  },
  {
   "cell_type": "markdown",
   "id": "41a486df",
   "metadata": {},
   "source": [
    "Mult vs Dom (p=0.5)"
   ]
  },
  {
   "cell_type": "code",
   "execution_count": 142,
   "id": "0a476643",
   "metadata": {},
   "outputs": [
    {
     "name": "stdout",
     "output_type": "stream",
     "text": [
      "0\n",
      "50\n",
      "100\n",
      "150\n"
     ]
    },
    {
     "data": {
      "text/html": [
       "<div>\n",
       "<style scoped>\n",
       "    .dataframe tbody tr th:only-of-type {\n",
       "        vertical-align: middle;\n",
       "    }\n",
       "\n",
       "    .dataframe tbody tr th {\n",
       "        vertical-align: top;\n",
       "    }\n",
       "\n",
       "    .dataframe thead th {\n",
       "        text-align: right;\n",
       "    }\n",
       "</style>\n",
       "<table border=\"1\" class=\"dataframe\">\n",
       "  <thead>\n",
       "    <tr style=\"text-align: right;\">\n",
       "      <th>Predicted</th>\n",
       "      <th>0</th>\n",
       "      <th>1</th>\n",
       "    </tr>\n",
       "    <tr>\n",
       "      <th>Actual</th>\n",
       "      <th></th>\n",
       "      <th></th>\n",
       "    </tr>\n",
       "  </thead>\n",
       "  <tbody>\n",
       "    <tr>\n",
       "      <th>0</th>\n",
       "      <td>181</td>\n",
       "      <td>19</td>\n",
       "    </tr>\n",
       "    <tr>\n",
       "      <th>1</th>\n",
       "      <td>64</td>\n",
       "      <td>136</td>\n",
       "    </tr>\n",
       "  </tbody>\n",
       "</table>\n",
       "</div>"
      ],
      "text/plain": [
       "Predicted    0    1\n",
       "Actual             \n",
       "0          181   19\n",
       "1           64  136"
      ]
     },
     "execution_count": 142,
     "metadata": {},
     "output_type": "execute_result"
    }
   ],
   "source": [
    "p=0.5\n",
    "\n",
    "nrep=200\n",
    "mul=[]\n",
    "dom=[]\n",
    "m=5e3\n",
    "M=2*m*(2*m-1)/2\n",
    "for nr in range(nrep):\n",
    "    \n",
    "    if (nr%50)==0:\n",
    "        print(nr)\n",
    "    \n",
    "    # truth is dominant\n",
    "    out=simulate_ibd_isweep(m,s,p,Ne,long_ibd,long_ibd,one_step_model='d')\n",
    "    numtracts=out[0][0]\n",
    "    lengthdist=bin_ibd_segments(out[0][2],exb)\n",
    "    sm=minimize_scalar(chi2_isweep,\n",
    "                    args=(p,Ne,M,(numtracts,),ab,'m'),\n",
    "                    bounds=(0,0.5),\n",
    "                    method='bounded').x\n",
    "    mfit=chi2_isweep(sm,p,Ne,M,lengthdist,exb,'m')\n",
    "    sd=minimize_scalar(chi2_isweep,\n",
    "                    args=(p,Ne,M,(numtracts,),ab,'d'),\n",
    "                    bounds=(0,0.5),\n",
    "                    method='bounded').x\n",
    "    dfit=chi2_isweep(sd,p,Ne,M,lengthdist,exb,'d')\n",
    "    if mfit <= dfit:\n",
    "        dom.append(0)\n",
    "    else:\n",
    "        dom.append(1)\n",
    "    \n",
    "    # truth is multiplicative\n",
    "    out=simulate_ibd_isweep(m,s,p,Ne,long_ibd,long_ibd,one_step_model='m')\n",
    "    numtracts=out[0][0]\n",
    "    lengthdist=bin_ibd_segments(out[0][2],exb)\n",
    "    sm=minimize_scalar(chi2_isweep,\n",
    "                    args=(p,Ne,M,(numtracts,),ab,'m'),\n",
    "                    bounds=(0,0.5),\n",
    "                    method='bounded').x\n",
    "    mfit=chi2_isweep(sm,p,Ne,M,lengthdist,exb,'m')\n",
    "    sd=minimize_scalar(chi2_isweep,\n",
    "                    args=(p,Ne,M,(numtracts,),ab,'d'),\n",
    "                    bounds=(0,0.5),\n",
    "                    method='bounded').x\n",
    "    dfit=chi2_isweep(sd,p,Ne,M,lengthdist,exb,'d')\n",
    "    if mfit <= dfit:\n",
    "        mul.append(0)\n",
    "    else:\n",
    "        mul.append(1)\n",
    "ones=[1 for i in range(nrep)]\n",
    "zero=[0 for i in range(nrep)]\n",
    "zero1=ones+zero\n",
    "dommul=dom+mul\n",
    "make_confusion_matrix(zero1,dommul)"
   ]
  },
  {
   "cell_type": "markdown",
   "id": "9626fb4b",
   "metadata": {},
   "source": [
    "Mult vs Dom (p=0.2)"
   ]
  },
  {
   "cell_type": "code",
   "execution_count": 141,
   "id": "6184aa0e",
   "metadata": {},
   "outputs": [
    {
     "name": "stdout",
     "output_type": "stream",
     "text": [
      "0\n",
      "50\n",
      "100\n",
      "150\n"
     ]
    },
    {
     "data": {
      "text/html": [
       "<div>\n",
       "<style scoped>\n",
       "    .dataframe tbody tr th:only-of-type {\n",
       "        vertical-align: middle;\n",
       "    }\n",
       "\n",
       "    .dataframe tbody tr th {\n",
       "        vertical-align: top;\n",
       "    }\n",
       "\n",
       "    .dataframe thead th {\n",
       "        text-align: right;\n",
       "    }\n",
       "</style>\n",
       "<table border=\"1\" class=\"dataframe\">\n",
       "  <thead>\n",
       "    <tr style=\"text-align: right;\">\n",
       "      <th>Predicted</th>\n",
       "      <th>0</th>\n",
       "      <th>1</th>\n",
       "    </tr>\n",
       "    <tr>\n",
       "      <th>Actual</th>\n",
       "      <th></th>\n",
       "      <th></th>\n",
       "    </tr>\n",
       "  </thead>\n",
       "  <tbody>\n",
       "    <tr>\n",
       "      <th>0</th>\n",
       "      <td>138</td>\n",
       "      <td>62</td>\n",
       "    </tr>\n",
       "    <tr>\n",
       "      <th>1</th>\n",
       "      <td>106</td>\n",
       "      <td>94</td>\n",
       "    </tr>\n",
       "  </tbody>\n",
       "</table>\n",
       "</div>"
      ],
      "text/plain": [
       "Predicted    0   1\n",
       "Actual            \n",
       "0          138  62\n",
       "1          106  94"
      ]
     },
     "execution_count": 141,
     "metadata": {},
     "output_type": "execute_result"
    }
   ],
   "source": [
    "p=0.2\n",
    "\n",
    "nrep=200\n",
    "mul=[]\n",
    "dom=[]\n",
    "m=5e3\n",
    "M=2*m*(2*m-1)/2\n",
    "for nr in range(nrep):\n",
    "    \n",
    "    if (nr%50)==0:\n",
    "        print(nr)\n",
    "    \n",
    "    # truth is dominant\n",
    "    out=simulate_ibd_isweep(m,s,p,Ne,long_ibd,long_ibd,one_step_model='d')\n",
    "    numtracts=out[0][0]\n",
    "    lengthdist=bin_ibd_segments(out[0][2],exb)\n",
    "    sm=minimize_scalar(chi2_isweep,\n",
    "                    args=(p,Ne,M,(numtracts,),ab,'m'),\n",
    "                    bounds=(0,0.5),\n",
    "                    method='bounded').x\n",
    "    mfit=chi2_isweep(sm,p,Ne,M,lengthdist,exb,'m')\n",
    "    sd=minimize_scalar(chi2_isweep,\n",
    "                    args=(p,Ne,M,(numtracts,),ab,'d'),\n",
    "                    bounds=(0,0.5),\n",
    "                    method='bounded').x\n",
    "    dfit=chi2_isweep(sd,p,Ne,M,lengthdist,exb,'d')\n",
    "    if mfit <= dfit:\n",
    "        dom.append(0)\n",
    "    else:\n",
    "        dom.append(1)\n",
    "    \n",
    "    # truth is multiplicative\n",
    "    out=simulate_ibd_isweep(m,s,p,Ne,long_ibd,long_ibd,one_step_model='m')\n",
    "    numtracts=out[0][0]\n",
    "    lengthdist=bin_ibd_segments(out[0][2],exb)\n",
    "    sm=minimize_scalar(chi2_isweep,\n",
    "                    args=(p,Ne,M,(numtracts,),ab,'m'),\n",
    "                    bounds=(0,0.5),\n",
    "                    method='bounded').x\n",
    "    mfit=chi2_isweep(sm,p,Ne,M,lengthdist,exb,'m')\n",
    "    sd=minimize_scalar(chi2_isweep,\n",
    "                    args=(p,Ne,M,(numtracts,),ab,'d'),\n",
    "                    bounds=(0,0.5),\n",
    "                    method='bounded').x\n",
    "    dfit=chi2_isweep(sd,p,Ne,M,lengthdist,exb,'d')\n",
    "    if mfit <= dfit:\n",
    "        mul.append(0)\n",
    "    else:\n",
    "        mul.append(1)\n",
    "ones=[1 for i in range(nrep)]\n",
    "zero=[0 for i in range(nrep)]\n",
    "zero1=ones+zero\n",
    "dommul=dom+mul\n",
    "make_confusion_matrix(zero1,dommul)"
   ]
  },
  {
   "cell_type": "markdown",
   "id": "8bcec2b0",
   "metadata": {},
   "source": [
    "Mult vs Dom (p=0.8)"
   ]
  },
  {
   "cell_type": "code",
   "execution_count": 143,
   "id": "6a7e9c60",
   "metadata": {},
   "outputs": [
    {
     "name": "stdout",
     "output_type": "stream",
     "text": [
      "0\n",
      "50\n",
      "100\n",
      "150\n"
     ]
    },
    {
     "data": {
      "text/html": [
       "<div>\n",
       "<style scoped>\n",
       "    .dataframe tbody tr th:only-of-type {\n",
       "        vertical-align: middle;\n",
       "    }\n",
       "\n",
       "    .dataframe tbody tr th {\n",
       "        vertical-align: top;\n",
       "    }\n",
       "\n",
       "    .dataframe thead th {\n",
       "        text-align: right;\n",
       "    }\n",
       "</style>\n",
       "<table border=\"1\" class=\"dataframe\">\n",
       "  <thead>\n",
       "    <tr style=\"text-align: right;\">\n",
       "      <th>Predicted</th>\n",
       "      <th>0</th>\n",
       "      <th>1</th>\n",
       "    </tr>\n",
       "    <tr>\n",
       "      <th>Actual</th>\n",
       "      <th></th>\n",
       "      <th></th>\n",
       "    </tr>\n",
       "  </thead>\n",
       "  <tbody>\n",
       "    <tr>\n",
       "      <th>0</th>\n",
       "      <td>189</td>\n",
       "      <td>11</td>\n",
       "    </tr>\n",
       "    <tr>\n",
       "      <th>1</th>\n",
       "      <td>130</td>\n",
       "      <td>70</td>\n",
       "    </tr>\n",
       "  </tbody>\n",
       "</table>\n",
       "</div>"
      ],
      "text/plain": [
       "Predicted    0   1\n",
       "Actual            \n",
       "0          189  11\n",
       "1          130  70"
      ]
     },
     "execution_count": 143,
     "metadata": {},
     "output_type": "execute_result"
    }
   ],
   "source": [
    "p=0.8\n",
    "\n",
    "nrep=200\n",
    "mul=[]\n",
    "dom=[]\n",
    "m=5e3\n",
    "M=2*m*(2*m-1)/2\n",
    "for nr in range(nrep):\n",
    "    \n",
    "    if (nr%50)==0:\n",
    "        print(nr)\n",
    "    \n",
    "    # truth is dominant\n",
    "    out=simulate_ibd_isweep(m,s,p,Ne,long_ibd,long_ibd,one_step_model='d')\n",
    "    numtracts=out[0][0]\n",
    "    lengthdist=bin_ibd_segments(out[0][2],exb)\n",
    "    sm=minimize_scalar(chi2_isweep,\n",
    "                    args=(p,Ne,M,(numtracts,),ab,'m'),\n",
    "                    bounds=(0,0.5),\n",
    "                    method='bounded').x\n",
    "    mfit=chi2_isweep(sm,p,Ne,M,lengthdist,exb,'m')\n",
    "    sd=minimize_scalar(chi2_isweep,\n",
    "                    args=(p,Ne,M,(numtracts,),ab,'d'),\n",
    "                    bounds=(0,0.5),\n",
    "                    method='bounded').x\n",
    "    dfit=chi2_isweep(sd,p,Ne,M,lengthdist,exb,'d')\n",
    "    if mfit <= dfit:\n",
    "        dom.append(0)\n",
    "    else:\n",
    "        dom.append(1)\n",
    "    \n",
    "    # truth is multiplicative\n",
    "    out=simulate_ibd_isweep(m,s,p,Ne,long_ibd,long_ibd,one_step_model='m')\n",
    "    numtracts=out[0][0]\n",
    "    lengthdist=bin_ibd_segments(out[0][2],exb)\n",
    "    sm=minimize_scalar(chi2_isweep,\n",
    "                    args=(p,Ne,M,(numtracts,),ab,'m'),\n",
    "                    bounds=(0,0.5),\n",
    "                    method='bounded').x\n",
    "    mfit=chi2_isweep(sm,p,Ne,M,lengthdist,exb,'m')\n",
    "    sd=minimize_scalar(chi2_isweep,\n",
    "                    args=(p,Ne,M,(numtracts,),ab,'d'),\n",
    "                    bounds=(0,0.5),\n",
    "                    method='bounded').x\n",
    "    dfit=chi2_isweep(sd,p,Ne,M,lengthdist,exb,'d')\n",
    "    if mfit <= dfit:\n",
    "        mul.append(0)\n",
    "    else:\n",
    "        mul.append(1)\n",
    "ones=[1 for i in range(nrep)]\n",
    "zero=[0 for i in range(nrep)]\n",
    "zero1=ones+zero\n",
    "dommul=dom+mul\n",
    "make_confusion_matrix(zero1,dommul)"
   ]
  },
  {
   "cell_type": "markdown",
   "id": "fffb6430",
   "metadata": {},
   "source": [
    "Mult vs Rec (p=0.5)"
   ]
  },
  {
   "cell_type": "code",
   "execution_count": 144,
   "id": "590294ce",
   "metadata": {},
   "outputs": [
    {
     "name": "stdout",
     "output_type": "stream",
     "text": [
      "0\n",
      "50\n",
      "100\n",
      "150\n"
     ]
    },
    {
     "data": {
      "text/html": [
       "<div>\n",
       "<style scoped>\n",
       "    .dataframe tbody tr th:only-of-type {\n",
       "        vertical-align: middle;\n",
       "    }\n",
       "\n",
       "    .dataframe tbody tr th {\n",
       "        vertical-align: top;\n",
       "    }\n",
       "\n",
       "    .dataframe thead th {\n",
       "        text-align: right;\n",
       "    }\n",
       "</style>\n",
       "<table border=\"1\" class=\"dataframe\">\n",
       "  <thead>\n",
       "    <tr style=\"text-align: right;\">\n",
       "      <th>Predicted</th>\n",
       "      <th>0</th>\n",
       "      <th>1</th>\n",
       "    </tr>\n",
       "    <tr>\n",
       "      <th>Actual</th>\n",
       "      <th></th>\n",
       "      <th></th>\n",
       "    </tr>\n",
       "  </thead>\n",
       "  <tbody>\n",
       "    <tr>\n",
       "      <th>0</th>\n",
       "      <td>198</td>\n",
       "      <td>2</td>\n",
       "    </tr>\n",
       "    <tr>\n",
       "      <th>1</th>\n",
       "      <td>111</td>\n",
       "      <td>89</td>\n",
       "    </tr>\n",
       "  </tbody>\n",
       "</table>\n",
       "</div>"
      ],
      "text/plain": [
       "Predicted    0   1\n",
       "Actual            \n",
       "0          198   2\n",
       "1          111  89"
      ]
     },
     "execution_count": 144,
     "metadata": {},
     "output_type": "execute_result"
    }
   ],
   "source": [
    "p=0.5\n",
    "\n",
    "nrep=200\n",
    "mul=[]\n",
    "dom=[]\n",
    "m=5e3\n",
    "M=2*m*(2*m-1)/2\n",
    "for nr in range(nrep):\n",
    "    \n",
    "    if (nr%50)==0:\n",
    "        print(nr)\n",
    "    \n",
    "    # truth is dominant\n",
    "    out=simulate_ibd_isweep(m,s,p,Ne,long_ibd,long_ibd,one_step_model='r')\n",
    "    numtracts=out[0][0]\n",
    "    lengthdist=bin_ibd_segments(out[0][2],exb)\n",
    "    sm=minimize_scalar(chi2_isweep,\n",
    "                    args=(p,Ne,M,(numtracts,),ab,'m'),\n",
    "                    bounds=(0,0.5),\n",
    "                    method='bounded').x\n",
    "    mfit=chi2_isweep(sm,p,Ne,M,lengthdist,exb,'m')\n",
    "    sd=minimize_scalar(chi2_isweep,\n",
    "                    args=(p,Ne,M,(numtracts,),ab,'r'),\n",
    "                    bounds=(0,0.5),\n",
    "                    method='bounded').x\n",
    "    dfit=chi2_isweep(sd,p,Ne,M,lengthdist,exb,'r')\n",
    "    if mfit <= dfit:\n",
    "        dom.append(0)\n",
    "    else:\n",
    "        dom.append(1)\n",
    "    \n",
    "    # truth is multiplicative\n",
    "    out=simulate_ibd_isweep(m,s,p,Ne,long_ibd,long_ibd,one_step_model='m')\n",
    "    numtracts=out[0][0]\n",
    "    lengthdist=bin_ibd_segments(out[0][2],exb)\n",
    "    sm=minimize_scalar(chi2_isweep,\n",
    "                    args=(p,Ne,M,(numtracts,),ab,'m'),\n",
    "                    bounds=(0,0.5),\n",
    "                    method='bounded').x\n",
    "    mfit=chi2_isweep(sm,p,Ne,M,lengthdist,exb,'m')\n",
    "    sd=minimize_scalar(chi2_isweep,\n",
    "                    args=(p,Ne,M,(numtracts,),ab,'r'),\n",
    "                    bounds=(0,0.5),\n",
    "                    method='bounded').x\n",
    "    dfit=chi2_isweep(sd,p,Ne,M,lengthdist,exb,'r')\n",
    "    if mfit <= dfit:\n",
    "        mul.append(0)\n",
    "    else:\n",
    "        mul.append(1)\n",
    "ones=[1 for i in range(nrep)]\n",
    "zero=[0 for i in range(nrep)]\n",
    "zero1=ones+zero\n",
    "dommul=dom+mul\n",
    "make_confusion_matrix(zero1,dommul)"
   ]
  },
  {
   "cell_type": "markdown",
   "id": "5f72bd3c",
   "metadata": {},
   "source": [
    "Rec vs Dom (p=0.5)"
   ]
  },
  {
   "cell_type": "code",
   "execution_count": 145,
   "id": "343b7b74",
   "metadata": {},
   "outputs": [
    {
     "name": "stdout",
     "output_type": "stream",
     "text": [
      "0\n",
      "50\n",
      "100\n",
      "150\n"
     ]
    },
    {
     "data": {
      "text/html": [
       "<div>\n",
       "<style scoped>\n",
       "    .dataframe tbody tr th:only-of-type {\n",
       "        vertical-align: middle;\n",
       "    }\n",
       "\n",
       "    .dataframe tbody tr th {\n",
       "        vertical-align: top;\n",
       "    }\n",
       "\n",
       "    .dataframe thead th {\n",
       "        text-align: right;\n",
       "    }\n",
       "</style>\n",
       "<table border=\"1\" class=\"dataframe\">\n",
       "  <thead>\n",
       "    <tr style=\"text-align: right;\">\n",
       "      <th>Predicted</th>\n",
       "      <th>0</th>\n",
       "      <th>1</th>\n",
       "    </tr>\n",
       "    <tr>\n",
       "      <th>Actual</th>\n",
       "      <th></th>\n",
       "      <th></th>\n",
       "    </tr>\n",
       "  </thead>\n",
       "  <tbody>\n",
       "    <tr>\n",
       "      <th>0</th>\n",
       "      <td>119</td>\n",
       "      <td>81</td>\n",
       "    </tr>\n",
       "    <tr>\n",
       "      <th>1</th>\n",
       "      <td>11</td>\n",
       "      <td>189</td>\n",
       "    </tr>\n",
       "  </tbody>\n",
       "</table>\n",
       "</div>"
      ],
      "text/plain": [
       "Predicted    0    1\n",
       "Actual             \n",
       "0          119   81\n",
       "1           11  189"
      ]
     },
     "execution_count": 145,
     "metadata": {},
     "output_type": "execute_result"
    }
   ],
   "source": [
    "p=0.5\n",
    "\n",
    "nrep=200\n",
    "mul=[]\n",
    "dom=[]\n",
    "m=5e3\n",
    "M=2*m*(2*m-1)/2\n",
    "for nr in range(nrep):\n",
    "    \n",
    "    if (nr%50)==0:\n",
    "        print(nr)\n",
    "    \n",
    "    # truth is dominant\n",
    "    out=simulate_ibd_isweep(m,s,p,Ne,long_ibd,long_ibd,one_step_model='d')\n",
    "    numtracts=out[0][0]\n",
    "    lengthdist=bin_ibd_segments(out[0][2],exb)\n",
    "    sm=minimize_scalar(chi2_isweep,\n",
    "                    args=(p,Ne,M,(numtracts,),ab,'r'),\n",
    "                    bounds=(0,0.5),\n",
    "                    method='bounded').x\n",
    "    mfit=chi2_isweep(sm,p,Ne,M,lengthdist,exb,'r')\n",
    "    sd=minimize_scalar(chi2_isweep,\n",
    "                    args=(p,Ne,M,(numtracts,),ab,'d'),\n",
    "                    bounds=(0,0.5),\n",
    "                    method='bounded').x\n",
    "    dfit=chi2_isweep(sd,p,Ne,M,lengthdist,exb,'d')\n",
    "    if mfit <= dfit:\n",
    "        dom.append(0)\n",
    "    else:\n",
    "        dom.append(1)\n",
    "    \n",
    "    # truth is multiplicative\n",
    "    out=simulate_ibd_isweep(m,s,p,Ne,long_ibd,long_ibd,one_step_model='r')\n",
    "    numtracts=out[0][0]\n",
    "    lengthdist=bin_ibd_segments(out[0][2],exb)\n",
    "    sm=minimize_scalar(chi2_isweep,\n",
    "                    args=(p,Ne,M,(numtracts,),ab,'r'),\n",
    "                    bounds=(0,0.5),\n",
    "                    method='bounded').x\n",
    "    mfit=chi2_isweep(sm,p,Ne,M,lengthdist,exb,'r')\n",
    "    sd=minimize_scalar(chi2_isweep,\n",
    "                    args=(p,Ne,M,(numtracts,),ab,'d'),\n",
    "                    bounds=(0,0.5),\n",
    "                    method='bounded').x\n",
    "    dfit=chi2_isweep(sd,p,Ne,M,lengthdist,exb,'d')\n",
    "    if mfit <= dfit:\n",
    "        mul.append(0)\n",
    "    else:\n",
    "        mul.append(1)\n",
    "ones=[1 for i in range(nrep)]\n",
    "zero=[0 for i in range(nrep)]\n",
    "zero1=ones+zero\n",
    "dommul=dom+mul\n",
    "make_confusion_matrix(zero1,dommul)"
   ]
  },
  {
   "cell_type": "markdown",
   "id": "ba1f4abc",
   "metadata": {},
   "source": [
    "### Backward formulas plotted"
   ]
  },
  {
   "cell_type": "code",
   "execution_count": 137,
   "id": "b9f94afd",
   "metadata": {
    "scrolled": true
   },
   "outputs": [
    {
     "data": {
      "text/plain": [
       "Text(0.5, 1.0, 'Backward formulas for inheritance')"
      ]
     },
     "execution_count": 137,
     "metadata": {},
     "output_type": "execute_result"
    },
    {
     "data": {
      "image/png": "[encoded data removed]",
      "text/plain": [
       "<Figure size 640x480 with 1 Axes>"
      ]
     },
     "metadata": {},
     "output_type": "display_data"
    }
   ],
   "source": [
    "q=0.50\n",
    "models=['m','a','d','r']\n",
    "colors=['tab:blue','tab:red','tab:orange',\"tab:green\"]\n",
    "ltypes=['-','dotted','-','-']\n",
    "for i in range(len(models)):\n",
    "    bwd=walk_variant_backward(s,q,Ne,False,models[i])\n",
    "    ext=extend_vector(bwd[0],0,500)\n",
    "    cls=ext[:151]\n",
    "    plt.plot(range(151),cls,c=colors[i],linestyle=ltypes[i])\n",
    "    plt.ylim(0,1)\n",
    "    plt.xlabel('Generations')\n",
    "    plt.ylabel('Allele frequency')\n",
    "plt.legend(['m','a','d','r'])\n",
    "plt.title('Backward formulas for inheritance')"
   ]
  },
  {
   "cell_type": "code",
   "execution_count": 136,
   "id": "8af87df2",
   "metadata": {},
   "outputs": [
    {
     "data": {
      "text/plain": [
       "Text(0.5, 1.0, 'Backward formulas for inheritance')"
      ]
     },
     "execution_count": 136,
     "metadata": {},
     "output_type": "execute_result"
    },
    {
     "data": {
      "image/png": "[encoded data removed]",
      "text/plain": [
       "<Figure size 640x480 with 1 Axes>"
      ]
     },
     "metadata": {},
     "output_type": "display_data"
    }
   ],
   "source": [
    "q=0.2\n",
    "models=['m','a','d','r']\n",
    "colors=['tab:blue','tab:red','tab:orange',\"tab:green\"]\n",
    "ltypes=['-','dotted','-','-']\n",
    "for i in range(len(models)):\n",
    "    bwd=walk_variant_backward(s,q,Ne,False,models[i])\n",
    "    ext=extend_vector(bwd[0],0,500)\n",
    "    cls=ext[:151]\n",
    "    plt.plot(range(151),cls,c=colors[i],linestyle=ltypes[i])\n",
    "    plt.ylim(0,1)\n",
    "    plt.xlabel('Generations')\n",
    "    plt.ylabel('Allele frequency')\n",
    "plt.legend(['m','a','d','r'])\n",
    "plt.title('Backward formulas for inheritance')"
   ]
  },
  {
   "cell_type": "code",
   "execution_count": 135,
   "id": "6c92232a",
   "metadata": {},
   "outputs": [
    {
     "data": {
      "text/plain": [
       "Text(0.5, 1.0, 'Backward formulas for inheritance')"
      ]
     },
     "execution_count": 135,
     "metadata": {},
     "output_type": "execute_result"
    },
    {
     "data": {
      "image/png": "[encoded data removed]",
      "text/plain": [
       "<Figure size 640x480 with 1 Axes>"
      ]
     },
     "metadata": {},
     "output_type": "display_data"
    }
   ],
   "source": [
    "q=0.8\n",
    "models=['m','a','d','r']\n",
    "colors=['tab:blue','tab:red','tab:orange',\"tab:green\"]\n",
    "ltypes=['-','dotted','-','-']\n",
    "for i in range(len(models)):\n",
    "    bwd=walk_variant_backward(s,q,Ne,False,models[i])\n",
    "    ext=extend_vector(bwd[0],0,500)\n",
    "    cls=ext[:151]\n",
    "    plt.plot(range(151),cls,c=colors[i],linestyle=ltypes[i])\n",
    "    plt.ylim(0,1)\n",
    "    plt.xlabel('Generations')\n",
    "    plt.ylabel('Allele frequency')\n",
    "plt.legend(['m','a','d','r'])\n",
    "plt.title('Backward formulas for inheritance')\n",
    "# plt.savefig()"
   ]
  },
  {
   "cell_type": "code",
   "execution_count": null,
   "id": "601e01d5",
   "metadata": {},
   "outputs": [],
   "source": []
  },
  {
   "cell_type": "code",
   "execution_count": null,
   "id": "3ea5b6e4",
   "metadata": {},
   "outputs": [],
   "source": []
  },
  {
   "cell_type": "code",
   "execution_count": 146,
   "id": "05dcfb84",
   "metadata": {},
   "outputs": [
    {
     "name": "stdout",
     "output_type": "stream",
     "text": [
      "Help on function walk_variant_forward in module isweep.cis.coalescentIBD:\n",
      "\n",
      "walk_variant_forward(s, pG, Ne, random_walk=False, one_step_model='m', tau0=0, ploidy=2)\n",
      "    Variant frequencies forward in time\n",
      "    \n",
      "    Parameters\n",
      "    ----------\n",
      "    s : float\n",
      "        Selection coefficient\n",
      "    pG : float\n",
      "        Variant frequency at maximum generation\n",
      "    Ne : dict\n",
      "        Effective population sizes\n",
      "    random_walk : bool\n",
      "        True for random walk\n",
      "    one_step_model : str\n",
      "        'm', 'a', 'd', or 'r'\n",
      "    tau0 : int\n",
      "        Generation when neutrality begins\n",
      "    ploidy : int\n",
      "        1 for haploid or 2 for diploid\n",
      "    \n",
      "    Returns\n",
      "    -------\n",
      "    tuple\n",
      "        NumPy arrays for frequencies and sizes\n",
      "\n"
     ]
    }
   ],
   "source": [
    "help(walk_variant_forward)"
   ]
  }
 ],
 "metadata": {
  "kernelspec": {
   "display_name": "Python 3 (ipykernel)",
   "language": "python",
   "name": "python3"
  },
  "language_info": {
   "codemirror_mode": {
    "name": "ipython",
    "version": 3
   },
   "file_extension": ".py",
   "mimetype": "text/x-python",
   "name": "python",
   "nbconvert_exporter": "python",
   "pygments_lexer": "ipython3",
   "version": "3.11.2"
  }
 },
 "nbformat": 4,
 "nbformat_minor": 5
}
