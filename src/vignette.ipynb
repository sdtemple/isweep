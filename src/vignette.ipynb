{
 "cells": [
  {
   "cell_type": "code",
   "execution_count": 1,
   "id": "6b2aff8c",
   "metadata": {},
   "outputs": [],
   "source": [
    "from iSWEEP import *"
   ]
  },
  {
   "cell_type": "code",
   "execution_count": 22,
   "id": "1efc7756",
   "metadata": {},
   "outputs": [],
   "source": [
    "n = 1e4\n",
    "s = 0.02\n",
    "p0 = 0.25\n",
    "Ne = '../auxillary/threephase-2000G.ne'\n",
    "Ne = read_Ne(Ne)\n",
    "short_ibd = 1.0\n",
    "ploidy=2"
   ]
  },
  {
   "cell_type": "code",
   "execution_count": 3,
   "id": "2402a781",
   "metadata": {},
   "outputs": [
    {
     "name": "stdout",
     "output_type": "stream",
     "text": [
      "data simulated\n",
      "graph made\n",
      "communities detected\n",
      "allele frequency estimated\n"
     ]
    }
   ],
   "source": [
    "# simulate data\n",
    "simdata = simulate_ibd_from_selective_sweep(n, s, p0, Ne, pairwise_output=True, \n",
    "                                            long_ibd = short_ibd,\n",
    "                                            short_ibd = short_ibd,\n",
    "                                            ploidy=ploidy\n",
    "                                           )\n",
    "print('data simulated')\n",
    "segments = simdata[3]\n",
    "\n",
    "# estimate allele frequency\n",
    "ibdgraph=make_ibd_graph(segments)\n",
    "print('graph made')\n",
    "communities=diameter_communities_algorithm(ibdgraph)\n",
    "print('communities detected')\n",
    "csizes=[len(comm) for comm in communities]\n",
    "pest=size_outlier_communities(csizes)/ploidy/n\n",
    "print('allele frequency estimated')\n",
    "print('comparison: true vs inferred communities')\n",
    "print(pest)\n",
    "sizes=simdata[0][1]\n",
    "print(size_outlier_communities(sizes)/ploidy/n)"
   ]
  },
  {
   "cell_type": "code",
   "execution_count": 19,
   "id": "f2125920",
   "metadata": {},
   "outputs": [],
   "source": [
    "# estimate selection coefficient\n",
    "long_ibd=2.0\n",
    "long_segments = [seg[2] for seg in segments if seg[2] >= long_ibd]\n",
    "ab=[long_ibd,np.inf]\n",
    "obs=len(long_segments)\n",
    "N=ploidy*n*(ploidy*n-1)/2\n",
    "p_est=pest\n",
    "s_est = minimize(chisquared_statistic_for_ibd_from_selective_sweep, \n",
    "         (0.01,), \n",
    "         args=(p_est,Ne,N,(obs,),ab), \n",
    "         bounds=[(0,0.5)], \n",
    "         method='Nelder-Mead'\n",
    "        ).x[0]"
   ]
  },
  {
   "cell_type": "code",
   "execution_count": 24,
   "id": "a0850ec0",
   "metadata": {},
   "outputs": [
    {
     "name": "stdout",
     "output_type": "stream",
     "text": [
      "0\n",
      "1\n",
      "2\n",
      "3\n",
      "4\n",
      "[0.01988720703125001, 0.010515625, 0.01989062500000001, 0.013396484375000002, 0.012306640625]\n",
      "[0.22525, 0.20475, 0.19905, 0.2806, 0.2671]\n"
     ]
    }
   ],
   "source": [
    "# bootstrap\n",
    "sbs=[]\n",
    "pbs=[]\n",
    "B = 5\n",
    "for b in range(B):\n",
    "    print(b)\n",
    "    bootdata = simulate_ibd_from_selective_sweep(n,\n",
    "                                                 s_est,\n",
    "                                                 p_est,\n",
    "                                                 Ne,\n",
    "                                                 long_ibd=long_ibd,\n",
    "                                                 short_ibd=short_ibd,\n",
    "                                                 ploidy=ploidy\n",
    "                                                )\n",
    "    bsizes = bootdata[0][1]\n",
    "    pb = size_outlier_communities(bsizes)/ploidy/n\n",
    "    sb = minimize(chisquared_statistic_for_ibd_from_selective_sweep, \n",
    "         (0.01,), \n",
    "         args=(pb,Ne,N,(bootdata[0][0],),ab), \n",
    "         bounds=[(0,0.5)], \n",
    "         method='Nelder-Mead'\n",
    "        ).x[0]\n",
    "    sbs.append(sb)\n",
    "    pbs.append(pb)\n",
    "print(sbs)\n",
    "print(pbs)"
   ]
  }
 ],
 "metadata": {
  "kernelspec": {
   "display_name": "Python 3",
   "language": "python",
   "name": "python3"
  },
  "language_info": {
   "codemirror_mode": {
    "name": "ipython",
    "version": 3
   },
   "file_extension": ".py",
   "mimetype": "text/x-python",
   "name": "python",
   "nbconvert_exporter": "python",
   "pygments_lexer": "ipython3",
   "version": "3.8.8"
  }
 },
 "nbformat": 4,
 "nbformat_minor": 5
}
