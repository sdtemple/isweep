{
 "cells": [
  {
   "cell_type": "markdown",
   "id": "0e48834d-de1b-4e2d-a3c0-cf8fcc4290e3",
   "metadata": {},
   "source": [
    "## Plotting and tabbing IBD graph features\n",
    "\n",
    "This notebook processes simulated data to make plots and tables.\n",
    "\n",
    "This was made to study the IBD graph features of complex demography simulations."
   ]
  },
  {
   "cell_type": "code",
   "execution_count": 7,
   "id": "6e44edc1-1831-4cea-a961-a4df537c743b",
   "metadata": {},
   "outputs": [],
   "source": [
    "import seaborn as sns\n",
    "import matplotlib.pyplot as plt\n",
    "import numpy as np\n",
    "import scipy\n",
    "import pandas as pd"
   ]
  },
  {
   "cell_type": "code",
   "execution_count": 63,
   "id": "3a46a61b-9f5a-475b-8725-a2d456e33ca8",
   "metadata": {},
   "outputs": [],
   "source": [
    "plt.rc('font',size=14)"
   ]
  },
  {
   "cell_type": "markdown",
   "id": "20ef8485-62a8-4ab6-a749-edd78c74862e",
   "metadata": {},
   "source": [
    "### Bottle v Growth"
   ]
  },
  {
   "cell_type": "code",
   "execution_count": 114,
   "id": "047bc6bc-7ad7-4f97-9750-94f984ccd431",
   "metadata": {},
   "outputs": [],
   "source": [
    "size = 5000\n",
    "cM = 3\n",
    "ne = 'three-phase-2000G.ne'\n",
    "ne2 = 'bottleneck-1000G.ne'\n",
    "nick = 'G3'\n",
    "nick2 = 'BN'\n",
    "pre = '../data/structures/structures-'\n",
    "pre2 = '../data/structures/structures-'\n",
    "filename = pre + ne + '-n' + str(size) + '-L' + str(cM) + '.txt'\n",
    "filename2 = pre2 + ne2 + '-n' + str(size) + '-L' + str(cM) + '.txt'"
   ]
  },
  {
   "cell_type": "code",
   "execution_count": 115,
   "id": "2c0de8b5-403c-45b5-9d24-49a5d8309c1c",
   "metadata": {},
   "outputs": [],
   "source": [
    "g=open(filename)\n",
    "g.readline()\n",
    "columns = g.readline().strip().split(',')\n",
    "table = dict()\n",
    "for col in columns:\n",
    "    table[col] = []\n",
    "J = len(columns)\n",
    "    \n",
    "g.readline()\n",
    "while True:\n",
    "    row = g.readline().strip()\n",
    "    reps = row.split('\\t')\n",
    "    if row == '':\n",
    "        break\n",
    "    for rep in reps:\n",
    "        details = rep.split(',')\n",
    "        for j in range(J):\n",
    "            table[columns[j]].append(int(details[j]))\n",
    "\n",
    "\n",
    "g.close()\n",
    "\n",
    "pdtable = pd.DataFrame(table)"
   ]
  },
  {
   "cell_type": "code",
   "execution_count": 116,
   "id": "803f513b-d030-435f-b19d-8a8539ae2a93",
   "metadata": {},
   "outputs": [],
   "source": [
    "g=open(filename2)\n",
    "g.readline()\n",
    "columns = g.readline().strip().split(',')\n",
    "table = dict()\n",
    "for col in columns:\n",
    "    table[col] = []\n",
    "J = len(columns)\n",
    "    \n",
    "g.readline()\n",
    "while True:\n",
    "    row = g.readline().strip()\n",
    "    reps = row.split('\\t')\n",
    "    if row == '':\n",
    "        break\n",
    "    for rep in reps:\n",
    "        details = rep.split(',')\n",
    "        for j in range(J):\n",
    "            table[columns[j]].append(int(details[j]))\n",
    "\n",
    "\n",
    "g.close()\n",
    "\n",
    "pdtable2 = pd.DataFrame(table)"
   ]
  },
  {
   "cell_type": "code",
   "execution_count": 112,
   "id": "b8e42da0-dfb6-4755-a51f-c20fd414b582",
   "metadata": {},
   "outputs": [
    {
     "data": {
      "text/plain": [
       "'hist-num_tracts-G3-n10000-L3'"
      ]
     },
     "execution_count": 112,
     "metadata": {},
     "output_type": "execute_result"
    }
   ],
   "source": [
    "bins = 20\n",
    "ec = 'k'\n",
    "\n",
    "# ic = 'tab:blue'\n",
    "# ic2 = 'tab:orange'\n",
    "# column = 'tree_order2'\n",
    "# xlab = '# trees of order 2'\n",
    "\n",
    "# ic = 'tab:cyan'\n",
    "# ic2 = 'tab:pink'\n",
    "# column = 'tree_order3'\n",
    "# xlab = '# trees of order 3'\n",
    "\n",
    "# ic = 'tab:purple'\n",
    "# ic2 = 'tab:olive'\n",
    "# column = 'iscomplete'\n",
    "# xlab = '# complete components of size >= 3'\n",
    "\n",
    "ic = 'tab:green'\n",
    "ic2 = 'tab:brown'\n",
    "column = 'num_tracts'\n",
    "xlab = '# of edges'\n",
    "\n",
    "alpha = 0.5\n",
    "\n",
    "pngname1 = 'hist-' + column + '-' + nick + '-n' + str(size) + '-L' + str(cM)\n",
    "pngname2 = 'hist-' + column + '-' + nick2 + '-n' + str(size) + '-L' + str(cM)\n",
    "pngname1"
   ]
  },
  {
   "cell_type": "code",
   "execution_count": 113,
   "id": "a10c08fb-f155-4499-a229-27979ba90a9a",
   "metadata": {},
   "outputs": [
    {
     "data": {
      "image/png": "[encoded data removed]",
      "text/plain": [
       "<Figure size 640x480 with 1 Axes>"
      ]
     },
     "metadata": {},
     "output_type": "display_data"
    }
   ],
   "source": [
    "\n",
    "fig = plt.figure()\n",
    "ax = plt.subplot(111)\n",
    "\n",
    "plttable = pdtable2\n",
    "pngname = pngname2\n",
    "nickname = nick2\n",
    "\n",
    "plt.hist(plttable[column],bins,edgecolor=ec,color=ic,label=nick, density=True, alpha=alpha)\n",
    "plt.xlabel(xlab)\n",
    "plt.ylabel('Density')\n",
    "\n",
    "# plt.axvline(plttable[column].mean(), color=ic, linestyle='dotted')\n",
    "\n",
    "# plt.legend(loc='upper center')\n",
    "# ax.legend(loc='upper center', bbox_to_anchor=(0.5, 1.1),\n",
    "          # ncol=2, fancybox=True, shadow=True)\n",
    "\n",
    "# plt.ylim(0,0.2)\n",
    "plt.grid(alpha=0.5)\n",
    "\n",
    "# plt.tight_layout()\n",
    "\n",
    "plt.title(nickname + ' demography')\n",
    "\n",
    "plt.ticklabel_format(style='sci', axis='y', scilimits=(0, 0))\n",
    "plt.ticklabel_format(style='sci', axis='x', scilimits=(0, 0))\n",
    "\n",
    "# plt.savefig('../figures/structures/' + pngname + '.png')\n",
    "# plt.savefig('../figures/structures/' + pngname + '.tiff')\n",
    "\n",
    "plt.show()"
   ]
  },
  {
   "cell_type": "markdown",
   "id": "3e7a3a48-5030-4761-aba2-596859a5b346",
   "metadata": {},
   "source": [
    "### Tables for demography comparison"
   ]
  },
  {
   "cell_type": "code",
   "execution_count": 156,
   "id": "a407c1be-aeb9-43ea-8a24-de83e0505a08",
   "metadata": {},
   "outputs": [],
   "source": [
    "# ne = 'three-phase-2000G.ne'\n",
    "# nick = 'G3'\n",
    "ne = 'bottleneck-1000G.ne'\n",
    "nick = 'BN'\n",
    "size = 5000\n",
    "cM = 3\n",
    "\n",
    "suf = '../tables/structures-'\n",
    "pre = '../data/structures/structures-'\n",
    "filename = pre + ne + '-n' + str(size) + '-L' + str(cM) + '.txt'\n",
    "filename2 = suf + nick + '-n' + str(size) + '-L' + str(cM) + '.txt'\n",
    "\n",
    "g=open(filename)\n",
    "g.readline()\n",
    "columns = g.readline().strip().split(',')\n",
    "table = dict()\n",
    "for col in columns:\n",
    "    table[col] = []\n",
    "J = len(columns)\n",
    "    \n",
    "g.readline()\n",
    "while True:\n",
    "    row = g.readline().strip()\n",
    "    reps = row.split('\\t')\n",
    "    if row == '':\n",
    "        break\n",
    "    for rep in reps:\n",
    "        details = rep.split(',')\n",
    "        for j in range(J):\n",
    "            table[columns[j]].append(int(details[j]))\n",
    "\n",
    "g.close()\n",
    "\n",
    "pdtable = pd.DataFrame(table)\n"
   ]
  },
  {
   "cell_type": "code",
   "execution_count": 157,
   "id": "d64d30ac-d980-4d29-a8b3-3246a7cca432",
   "metadata": {},
   "outputs": [
    {
     "data": {
      "text/plain": [
       "916"
      ]
     },
     "execution_count": 157,
     "metadata": {},
     "output_type": "execute_result"
    }
   ],
   "source": [
    "indices = [0,1,2,3,-1]\n",
    "K = len(indices)\n",
    "\n",
    "g=open(filename)\n",
    "g.readline()\n",
    "columns = g.readline().strip().split(',')\n",
    "\n",
    "# ads = [[] for k in range(K)]\n",
    "sws = [[] for k in range(K)]\n",
    "    \n",
    "g.readline()\n",
    "ctr = 0\n",
    "while True:\n",
    "    ctr += 1\n",
    "    row = g.readline().strip()\n",
    "    reps = row.split('\\t')\n",
    "    if row == '':\n",
    "        break\n",
    "    vals = [[] for k in range(K)]\n",
    "    for rep in reps:\n",
    "        details = rep.split(',')\n",
    "        for k in range(K):\n",
    "            idx = indices[k]\n",
    "            vals[k].append(int(details[idx]))\n",
    "    for k in range(K):  \n",
    "        # ad = scipy.stats.anderson(vals[k],'norm').pvalue\n",
    "        sw = scipy.stats.shapiro(vals[k]).pvalue\n",
    "        # ads[k].append(ad)\n",
    "        sws[k].append(float(sw))\n",
    "\n",
    "g.close()\n",
    "ctr"
   ]
  },
  {
   "cell_type": "code",
   "execution_count": 158,
   "id": "13028323-118f-4493-8543-bfdc4b57b109",
   "metadata": {},
   "outputs": [],
   "source": [
    "type1 = 0.05\n",
    "type1s = []\n",
    "for k in range(K):\n",
    "    vec = [sw < type1 for sw in sws[k]]\n",
    "    type1s.append(sum(vec)/float(ctr))"
   ]
  },
  {
   "cell_type": "code",
   "execution_count": 159,
   "id": "14368254-4153-4782-8787-94a2cd706f7e",
   "metadata": {},
   "outputs": [
    {
     "name": "stdout",
     "output_type": "stream",
     "text": [
      "Index(['mean', 'var', 'min', 'max'], dtype='object')\n",
      "Index(['Avg', 'Var', 'Min', 'Max', 'Sig'], dtype='object')\n"
     ]
    },
    {
     "data": {
      "text/html": [
       "<style type=\"text/css\">\n",
       "</style>\n",
       "<table id=\"T_3ff58\">\n",
       "  <thead>\n",
       "    <tr>\n",
       "      <th class=\"blank level0\" >&nbsp;</th>\n",
       "      <th id=\"T_3ff58_level0_col0\" class=\"col_heading level0 col0\" >Avg</th>\n",
       "      <th id=\"T_3ff58_level0_col1\" class=\"col_heading level0 col1\" >Var</th>\n",
       "      <th id=\"T_3ff58_level0_col2\" class=\"col_heading level0 col2\" >Min</th>\n",
       "      <th id=\"T_3ff58_level0_col3\" class=\"col_heading level0 col3\" >Max</th>\n",
       "      <th id=\"T_3ff58_level0_col4\" class=\"col_heading level0 col4\" >Sig</th>\n",
       "    </tr>\n",
       "  </thead>\n",
       "  <tbody>\n",
       "    <tr>\n",
       "      <th id=\"T_3ff58_level0_row0\" class=\"row_heading level0 row0\" >Tracts</th>\n",
       "      <td id=\"T_3ff58_row0_col0\" class=\"data row0 col0\" >587.73</td>\n",
       "      <td id=\"T_3ff58_row0_col1\" class=\"data row0 col1\" >694.55</td>\n",
       "      <td id=\"T_3ff58_row0_col2\" class=\"data row0 col2\" >469.00</td>\n",
       "      <td id=\"T_3ff58_row0_col3\" class=\"data row0 col3\" >716.00</td>\n",
       "      <td id=\"T_3ff58_row0_col4\" class=\"data row0 col4\" >0.12</td>\n",
       "    </tr>\n",
       "    <tr>\n",
       "      <th id=\"T_3ff58_level0_row1\" class=\"row_heading level0 row1\" >Largest</th>\n",
       "      <td id=\"T_3ff58_row1_col0\" class=\"data row1 col0\" >4.32</td>\n",
       "      <td id=\"T_3ff58_row1_col1\" class=\"data row1 col1\" >0.39</td>\n",
       "      <td id=\"T_3ff58_row1_col2\" class=\"data row1 col2\" >3.00</td>\n",
       "      <td id=\"T_3ff58_row1_col3\" class=\"data row1 col3\" >11.00</td>\n",
       "      <td id=\"T_3ff58_row1_col4\" class=\"data row1 col4\" >1.00</td>\n",
       "    </tr>\n",
       "    <tr>\n",
       "      <th id=\"T_3ff58_level0_row2\" class=\"row_heading level0 row2\" >Tree2</th>\n",
       "      <td id=\"T_3ff58_row2_col0\" class=\"data row2 col0\" >473.24</td>\n",
       "      <td id=\"T_3ff58_row2_col1\" class=\"data row2 col1\" >393.50</td>\n",
       "      <td id=\"T_3ff58_row2_col2\" class=\"data row2 col2\" >377.00</td>\n",
       "      <td id=\"T_3ff58_row2_col3\" class=\"data row2 col3\" >574.00</td>\n",
       "      <td id=\"T_3ff58_row2_col4\" class=\"data row2 col4\" >0.09</td>\n",
       "    </tr>\n",
       "    <tr>\n",
       "      <th id=\"T_3ff58_level0_row3\" class=\"row_heading level0 row3\" >Tree3</th>\n",
       "      <td id=\"T_3ff58_row3_col0\" class=\"data row3 col0\" >9.66</td>\n",
       "      <td id=\"T_3ff58_row3_col1\" class=\"data row3 col1\" >9.57</td>\n",
       "      <td id=\"T_3ff58_row3_col2\" class=\"data row3 col2\" >0.00</td>\n",
       "      <td id=\"T_3ff58_row3_col3\" class=\"data row3 col3\" >27.00</td>\n",
       "      <td id=\"T_3ff58_row3_col4\" class=\"data row3 col4\" >1.00</td>\n",
       "    </tr>\n",
       "    <tr>\n",
       "      <th id=\"T_3ff58_level0_row4\" class=\"row_heading level0 row4\" >Complete>= 3</th>\n",
       "      <td id=\"T_3ff58_row4_col0\" class=\"data row4 col0\" >35.53</td>\n",
       "      <td id=\"T_3ff58_row4_col1\" class=\"data row4 col1\" >34.76</td>\n",
       "      <td id=\"T_3ff58_row4_col2\" class=\"data row4 col2\" >11.00</td>\n",
       "      <td id=\"T_3ff58_row4_col3\" class=\"data row4 col3\" >488.00</td>\n",
       "      <td id=\"T_3ff58_row4_col4\" class=\"data row4 col4\" >1.00</td>\n",
       "    </tr>\n",
       "  </tbody>\n",
       "</table>\n"
      ],
      "text/plain": [
       "<pandas.io.formats.style.Styler at 0x7f48255d0830>"
      ]
     },
     "execution_count": 159,
     "metadata": {},
     "output_type": "execute_result"
    }
   ],
   "source": [
    "columns = ['num_tracts', 'largest_component','tree_order2','tree_order3', 'iscomplete']\n",
    "# summarystatistics = ['mean','var','min','25%','50%','75%','max']\n",
    "summarystatistics = ['mean','var','min','max']\n",
    "out = pdtable[columns].describe()\n",
    "out = out.T\n",
    "out['var'] = out['std'] ** 2\n",
    "out = out[summarystatistics]\n",
    "print(out.columns)\n",
    "out.rename(columns={'mean':'Avg',\n",
    "                    'var':'Var',\n",
    "                    'min':'Min',\n",
    "                    # '25%':'0.25',\n",
    "                    # '50%':'0.50',\n",
    "                    # '75%':'0.75',\n",
    "                    'max':'Max'\n",
    "                   },\n",
    "           index={'num_tracts':'Tracts',\n",
    "                  'largest_component':'Largest',\n",
    "                  'tree_order2':'Tree2',\n",
    "                  'tree_order3':'Tree3',\n",
    "                  # 'tree_order4':'Tree4',\n",
    "                  # 'complete3': 'Complete3',\n",
    "                  'iscomplete': 'Complete>= 3'\n",
    "                 },\n",
    "           inplace=True\n",
    "          )\n",
    "out['Sig'] = type1s\n",
    "# out.to_csv(filename2,sep='\\t',header=True,index=True)\n",
    "# out.rename( = pd.Index(['Avg','Var','Min','0.25','0.50','0.75','Max'])\n",
    "print(out.columns)\n",
    "# out.index = ['Edges','Largest','Tree2','Tree3','Tree4','Complete3','Complete All']\n",
    "out = out.style.format(decimal='.', thousands=',', precision=2)\n",
    "out"
   ]
  },
  {
   "cell_type": "code",
   "execution_count": 161,
   "id": "03c534ed-f58c-4d39-ad82-78928ef53612",
   "metadata": {},
   "outputs": [
    {
     "name": "stdout",
     "output_type": "stream",
     "text": [
      "\\begin{tabular}{lrrrrr}\n",
      " & Avg & Var & Min & Max & Sig \\\\\n",
      "Tracts & 587.73 & 694.55 & 469.00 & 716.00 & 0.12 \\\\\n",
      "Largest & 4.32 & 0.39 & 3.00 & 11.00 & 1.00 \\\\\n",
      "Tree2 & 473.24 & 393.50 & 377.00 & 574.00 & 0.09 \\\\\n",
      "Tree3 & 9.66 & 9.57 & 0.00 & 27.00 & 1.00 \\\\\n",
      "Complete>= 3 & 35.53 & 34.76 & 11.00 & 488.00 & 1.00 \\\\\n",
      "\\end{tabular}\n",
      "\n"
     ]
    }
   ],
   "source": [
    "print(out.to_latex())"
   ]
  },
  {
   "cell_type": "markdown",
   "id": "4a5a7635-3b15-4169-b19a-881a96f0c519",
   "metadata": {},
   "source": [
    "### Tables for selection"
   ]
  },
  {
   "cell_type": "code",
   "execution_count": 209,
   "id": "498fb612-d66b-49dd-a5c6-0519483daef8",
   "metadata": {},
   "outputs": [],
   "source": [
    "ne = 'three-phase-2000G.ne'\n",
    "nick = 'G3'\n",
    "# ne = 'bottleneck-1000G.ne'\n",
    "# nick = 'BN'\n",
    "size = 5000\n",
    "cM = 3\n",
    "\n",
    "s = 0.04\n",
    "\n",
    "suf = '../tables/isweep-'\n",
    "pre = '../data/structures/isweep-'\n",
    "filename = pre +  'selcoef' + str(s) + '-freq0.33-' + ne + '-n' + str(size) + '-L' + str(cM) + '.txt'\n",
    "filename2 = suf +  'selcoef' + str(s) + '-freq0.33-' +  nick + '-n' + str(size) + '-L' + str(cM) +  '-s' + str(s)+ '.txt'\n",
    "\n",
    "\n",
    "g=open(filename)\n",
    "g.readline()\n",
    "g.readline()\n",
    "g.readline()\n",
    "columns = g.readline().strip().split(',')\n",
    "table = dict()\n",
    "for col in columns:\n",
    "    table[col] = []\n",
    "J = len(columns)\n",
    "    \n",
    "g.readline()\n",
    "while True:\n",
    "    row = g.readline().strip()\n",
    "    reps = row.split('\\t')\n",
    "    if row == '':\n",
    "        break\n",
    "    try:\n",
    "        for rep in reps:\n",
    "            details = rep.split(',')\n",
    "            for j in range(J):\n",
    "                table[columns[j]].append(int(details[j]))\n",
    "    except:\n",
    "        pass\n",
    "\n",
    "g.close()\n",
    "\n",
    "pdtable = pd.DataFrame(table)\n"
   ]
  },
  {
   "cell_type": "code",
   "execution_count": 210,
   "id": "e5f2e445-cabb-4c9b-b278-7d9862c2d995",
   "metadata": {},
   "outputs": [
    {
     "data": {
      "text/plain": [
       "155"
      ]
     },
     "execution_count": 210,
     "metadata": {},
     "output_type": "execute_result"
    }
   ],
   "source": [
    "indices = [0,1,2,3,-1]\n",
    "K = len(indices)\n",
    "\n",
    "g=open(filename)\n",
    "g.readline()\n",
    "g.readline()\n",
    "g.readline()\n",
    "columns = g.readline().strip().split(',')\n",
    "\n",
    "# ads = [[] for k in range(K)]\n",
    "sws = [[] for k in range(K)]\n",
    "    \n",
    "g.readline()\n",
    "ctr = 0\n",
    "while True:\n",
    "    ctr += 1\n",
    "    row = g.readline().strip()\n",
    "    reps = row.split('\\t')\n",
    "    if row == '':\n",
    "        break\n",
    "    vals = [[] for k in range(K)]\n",
    "    try:\n",
    "        for rep in reps:\n",
    "            details = rep.split(',')\n",
    "            for k in range(K):\n",
    "                idx = indices[k]\n",
    "                vals[k].append(int(details[idx]))\n",
    "        for k in range(K):  \n",
    "            # ad = scipy.stats.anderson(vals[k],'norm').pvalue\n",
    "            sw = scipy.stats.shapiro(vals[k]).pvalue\n",
    "            # ads[k].append(ad)\n",
    "            sws[k].append(float(sw))\n",
    "    except:\n",
    "        pass\n",
    "\n",
    "g.close()\n",
    "sim = ctr\n",
    "sim"
   ]
  },
  {
   "cell_type": "code",
   "execution_count": 211,
   "id": "868dfbe8-a8c8-4e9b-b41a-83d072c69129",
   "metadata": {},
   "outputs": [],
   "source": [
    "type1 = 0.05\n",
    "type1s = []\n",
    "for k in range(K):\n",
    "    vec = [sw < type1 for sw in sws[k]]\n",
    "    type1s.append(sum(vec)/float(sim))"
   ]
  },
  {
   "cell_type": "code",
   "execution_count": 212,
   "id": "0a5f748f-c61d-4037-83b8-63f640f9e9b5",
   "metadata": {},
   "outputs": [
    {
     "name": "stdout",
     "output_type": "stream",
     "text": [
      "Index(['mean', 'var', 'min', 'max'], dtype='object')\n",
      "Index(['Avg', 'Var', 'Min', 'Max', 'Sig'], dtype='object')\n"
     ]
    },
    {
     "data": {
      "text/html": [
       "<style type=\"text/css\">\n",
       "</style>\n",
       "<table id=\"T_68acc\">\n",
       "  <thead>\n",
       "    <tr>\n",
       "      <th class=\"blank level0\" >&nbsp;</th>\n",
       "      <th id=\"T_68acc_level0_col0\" class=\"col_heading level0 col0\" >Avg</th>\n",
       "      <th id=\"T_68acc_level0_col1\" class=\"col_heading level0 col1\" >Var</th>\n",
       "      <th id=\"T_68acc_level0_col2\" class=\"col_heading level0 col2\" >Min</th>\n",
       "      <th id=\"T_68acc_level0_col3\" class=\"col_heading level0 col3\" >Max</th>\n",
       "      <th id=\"T_68acc_level0_col4\" class=\"col_heading level0 col4\" >Sig</th>\n",
       "    </tr>\n",
       "  </thead>\n",
       "  <tbody>\n",
       "    <tr>\n",
       "      <th id=\"T_68acc_level0_row0\" class=\"row_heading level0 row0\" >Tracts</th>\n",
       "      <td id=\"T_68acc_row0_col0\" class=\"data row0 col0\" >16,486.56</td>\n",
       "      <td id=\"T_68acc_row0_col1\" class=\"data row0 col1\" >24,295,227.62</td>\n",
       "      <td id=\"T_68acc_row0_col2\" class=\"data row0 col2\" >7,747.00</td>\n",
       "      <td id=\"T_68acc_row0_col3\" class=\"data row0 col3\" >72,775.00</td>\n",
       "      <td id=\"T_68acc_row0_col4\" class=\"data row0 col4\" >0.97</td>\n",
       "    </tr>\n",
       "    <tr>\n",
       "      <th id=\"T_68acc_level0_row1\" class=\"row_heading level0 row1\" >Largest</th>\n",
       "      <td id=\"T_68acc_row1_col0\" class=\"data row1 col0\" >484.92</td>\n",
       "      <td id=\"T_68acc_row1_col1\" class=\"data row1 col1\" >38,683.32</td>\n",
       "      <td id=\"T_68acc_row1_col2\" class=\"data row1 col2\" >89.00</td>\n",
       "      <td id=\"T_68acc_row1_col3\" class=\"data row1 col3\" >1,229.00</td>\n",
       "      <td id=\"T_68acc_row1_col4\" class=\"data row1 col4\" >0.97</td>\n",
       "    </tr>\n",
       "    <tr>\n",
       "      <th id=\"T_68acc_level0_row2\" class=\"row_heading level0 row2\" >Tree2</th>\n",
       "      <td id=\"T_68acc_row2_col0\" class=\"data row2 col0\" >630.68</td>\n",
       "      <td id=\"T_68acc_row2_col1\" class=\"data row2 col1\" >529.35</td>\n",
       "      <td id=\"T_68acc_row2_col2\" class=\"data row2 col2\" >546.00</td>\n",
       "      <td id=\"T_68acc_row2_col3\" class=\"data row2 col3\" >731.00</td>\n",
       "      <td id=\"T_68acc_row2_col4\" class=\"data row2 col4\" >0.02</td>\n",
       "    </tr>\n",
       "    <tr>\n",
       "      <th id=\"T_68acc_level0_row3\" class=\"row_heading level0 row3\" >Tree3</th>\n",
       "      <td id=\"T_68acc_row3_col0\" class=\"data row3 col0\" >72.95</td>\n",
       "      <td id=\"T_68acc_row3_col1\" class=\"data row3 col1\" >70.26</td>\n",
       "      <td id=\"T_68acc_row3_col2\" class=\"data row3 col2\" >41.00</td>\n",
       "      <td id=\"T_68acc_row3_col3\" class=\"data row3 col3\" >108.00</td>\n",
       "      <td id=\"T_68acc_row3_col4\" class=\"data row3 col4\" >0.11</td>\n",
       "    </tr>\n",
       "    <tr>\n",
       "      <th id=\"T_68acc_level0_row4\" class=\"row_heading level0 row4\" >Complete>=3</th>\n",
       "      <td id=\"T_68acc_row4_col0\" class=\"data row4 col0\" >185.76</td>\n",
       "      <td id=\"T_68acc_row4_col1\" class=\"data row4 col1\" >167.85</td>\n",
       "      <td id=\"T_68acc_row4_col2\" class=\"data row4 col2\" >135.00</td>\n",
       "      <td id=\"T_68acc_row4_col3\" class=\"data row4 col3\" >241.00</td>\n",
       "      <td id=\"T_68acc_row4_col4\" class=\"data row4 col4\" >0.07</td>\n",
       "    </tr>\n",
       "  </tbody>\n",
       "</table>\n"
      ],
      "text/plain": [
       "<pandas.io.formats.style.Styler at 0x7f48255d27e0>"
      ]
     },
     "execution_count": 212,
     "metadata": {},
     "output_type": "execute_result"
    }
   ],
   "source": [
    "columns = ['num_tracts', 'largest_component','tree_order2','tree_order3','iscomplete']\n",
    "# summarystatistics = ['mean','var','min','25%','50%','75%','max']\n",
    "summarystatistics = ['mean','var','min','max']\n",
    "out = pdtable[columns].describe()\n",
    "out = out.T\n",
    "out['var'] = out['std'] ** 2\n",
    "out = out[summarystatistics]\n",
    "print(out.columns)\n",
    "out.rename(columns={'mean':'Avg',\n",
    "                    'var':'Var',\n",
    "                    'min':'Min',\n",
    "                    # '25%':'0.25',\n",
    "                    # '50%':'0.50',\n",
    "                    # '75%':'0.75',\n",
    "                    'max':'Max'\n",
    "                   },\n",
    "           index={'num_tracts':'Tracts',\n",
    "                  'largest_component':'Largest',\n",
    "                  'tree_order2':'Tree2',\n",
    "                  'tree_order3':'Tree3',\n",
    "                  # 'tree_order4':'Tree4',\n",
    "                  # 'complete3': 'Complete3',\n",
    "                  'iscomplete': 'Complete>=3'\n",
    "                 },\n",
    "           inplace=True\n",
    "          )\n",
    "out['Sig'] = type1s\n",
    "# out.to_csv(filename2,sep='\\t',header=True,index=True)\n",
    "# out.rename( = pd.Index(['Avg','Var','Min','0.25','0.50','0.75','Max'])\n",
    "print(out.columns)\n",
    "# out.index = ['Edges','Largest','Tree2','Tree3','Tree4','Complete3','Complete All']\n",
    "out = out.style.format(decimal='.', thousands=',', precision=2)\n",
    "out"
   ]
  },
  {
   "cell_type": "code",
   "execution_count": 213,
   "id": "a58d60ae-ca39-43ad-a98d-693199050e69",
   "metadata": {},
   "outputs": [
    {
     "name": "stdout",
     "output_type": "stream",
     "text": [
      "\\begin{tabular}{lrrrrr}\n",
      " & Avg & Var & Min & Max & Sig \\\\\n",
      "Tracts & 16,486.56 & 24,295,227.62 & 7,747.00 & 72,775.00 & 0.97 \\\\\n",
      "Largest & 484.92 & 38,683.32 & 89.00 & 1,229.00 & 0.97 \\\\\n",
      "Tree2 & 630.68 & 529.35 & 546.00 & 731.00 & 0.02 \\\\\n",
      "Tree3 & 72.95 & 70.26 & 41.00 & 108.00 & 0.11 \\\\\n",
      "Complete>=3 & 185.76 & 167.85 & 135.00 & 241.00 & 0.07 \\\\\n",
      "\\end{tabular}\n",
      "\n"
     ]
    }
   ],
   "source": [
    "print(out.to_latex())"
   ]
  }
 ],
 "metadata": {
  "kernelspec": {
   "display_name": "Python 3 (ipykernel)",
   "language": "python",
   "name": "python3"
  },
  "language_info": {
   "codemirror_mode": {
    "name": "ipython",
    "version": 3
   },
   "file_extension": ".py",
   "mimetype": "text/x-python",
   "name": "python",
   "nbconvert_exporter": "python",
   "pygments_lexer": "ipython3",
   "version": "3.12.0"
  }
 },
 "nbformat": 4,
 "nbformat_minor": 5
}
