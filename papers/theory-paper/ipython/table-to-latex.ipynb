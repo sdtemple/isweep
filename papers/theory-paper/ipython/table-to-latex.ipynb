{
 "cells": [
  {
   "cell_type": "markdown",
   "id": "acf828d2-98d3-46fb-adca-3852489c7f96",
   "metadata": {},
   "source": [
    "### Output pandas DataFrame to LaTeX tables\n",
    "\n",
    "Assumes you already have specific simulated data.\n",
    "\n",
    "Tables are modified later in latex for improved design."
   ]
  },
  {
   "cell_type": "code",
   "execution_count": 1,
   "id": "1d6d5e53-6ae3-47b6-ae81-570eeb22ae01",
   "metadata": {},
   "outputs": [],
   "source": [
    "import seaborn as sns\n",
    "import matplotlib.pyplot as plt\n",
    "import numpy as np\n",
    "import scipy\n",
    "import pandas as pd"
   ]
  },
  {
   "cell_type": "markdown",
   "id": "e73a5c4c-0ab8-491e-a190-150ae9e0e202",
   "metadata": {},
   "source": [
    "## Erdos Renyi tables"
   ]
  },
  {
   "cell_type": "code",
   "execution_count": 56,
   "id": "a56dfa44-5405-4e63-9324-db634b768829",
   "metadata": {},
   "outputs": [
    {
     "name": "stdout",
     "output_type": "stream",
     "text": [
      "\\begin{tabular}{lrrrrr}\n",
      " & Avg & Var & Min & Max & S.W. \\\\\n",
      "Feature &  &  &  &  &  \\\\\n",
      "Tracts & 1,979.21 & 1,982.63 & 1,780.00 & 2,162.00 & 0.08 \\\\\n",
      "Largest & 212.26 & 13,869.14 & 35.00 & 931.00 & 1.00 \\\\\n",
      "Tree2 & 273.49 & 272.37 & 199.00 & 348.00 & 0.08 \\\\\n",
      "Tree3 & 100.68 & 101.14 & 59.00 & 154.00 & 0.16 \\\\\n",
      "Complete>= 3 & 150.06 & 149.86 & 95.00 & 211.00 & 0.17 \\\\\n",
      "\\end{tabular}\n",
      "\n"
     ]
    }
   ],
   "source": [
    "# ne = 'three-phase-2000G.ne'\n",
    "# ne = 'bottleneck-1000G.ne'\n",
    "ne = 'constant-100k-2000G.ne'\n",
    "size = 2000\n",
    "cM = 2.0\n",
    "sim = 250\n",
    "rep = 500\n",
    "suf = '../tables/erdosrenyi-'\n",
    "filename = ne + '-size' + str(size) + '-cM' + str(cM) + '-sim' + str(sim) + '-rep' + str(rep)\n",
    "\n",
    "out = pd.read_csv(suf+filename+'.tsv',sep='\\t')\n",
    "out.columns = ['Feature','Avg','Var','Min','Max','S.W.']\n",
    "out.index = out['Feature']\n",
    "out = out[['Avg','Var','Min','Max','S.W.']]\n",
    "outstyle = out.style.format(decimal='.', thousands=',', precision=2)\n",
    "print(outstyle.to_latex())"
   ]
  },
  {
   "cell_type": "markdown",
   "id": "6eda074f-f068-4483-834c-02d88e91f2aa",
   "metadata": {},
   "source": [
    "## IBD tables"
   ]
  },
  {
   "cell_type": "code",
   "execution_count": 55,
   "id": "6b08c447-4bea-4962-9b3b-73a17b2800de",
   "metadata": {},
   "outputs": [
    {
     "name": "stdout",
     "output_type": "stream",
     "text": [
      "\\begin{tabular}{lrrrrr}\n",
      " & Avg & Var & Min & Max & S.W. \\\\\n",
      "Feature &  &  &  &  &  \\\\\n",
      "Tracts & 1,954.07 & 5,534.83 & 1,639.00 & 2,304.00 & 0.24 \\\\\n",
      "Largest & 10.43 & 3.23 & 6.00 & 27.00 & 1.00 \\\\\n",
      "Tree2 & 502.59 & 383.90 & 415.00 & 582.00 & 0.08 \\\\\n",
      "Tree3 & 34.44 & 33.41 & 13.00 & 63.00 & 0.67 \\\\\n",
      "Complete>= 3 & 179.44 & 144.65 & 131.00 & 232.00 & 0.08 \\\\\n",
      "\\end{tabular}\n",
      "\n"
     ]
    }
   ],
   "source": [
    "# ne = 'three-phase-2000G.ne'\n",
    "# ne = 'bottleneck-1000G.ne'\n",
    "ne = 'constant-100k-2000G.ne'\n",
    "size = 2000\n",
    "cM = 2.0\n",
    "sim = 250\n",
    "rep = 500\n",
    "suf = '../tables/structures-'\n",
    "filename = ne + '-size' + str(size) + '-cM' + str(cM) + '-sim' + str(sim) + '-rep' + str(rep)\n",
    "\n",
    "out = pd.read_csv(suf+filename+'.tsv',sep='\\t')\n",
    "out.columns = ['Feature','Avg','Var','Min','Max','S.W.']\n",
    "out.index = out['Feature']\n",
    "out = out[['Avg','Var','Min','Max','S.W.']]\n",
    "outstyle = out.style.format(decimal='.', thousands=',', precision=2)\n",
    "print(outstyle.to_latex())"
   ]
  },
  {
   "cell_type": "markdown",
   "id": "a23c03c3-1d69-4082-975a-cc153a82f0ce",
   "metadata": {},
   "source": [
    "## Selection tables"
   ]
  },
  {
   "cell_type": "code",
   "execution_count": 53,
   "id": "a63c2738-7f5e-41e5-9674-868db1030145",
   "metadata": {},
   "outputs": [
    {
     "name": "stdout",
     "output_type": "stream",
     "text": [
      "\\begin{tabular}{lrrrrr}\n",
      " & Avg & Var & Min & Max & S.W. \\\\\n",
      "Feature &  &  &  &  &  \\\\\n",
      "Tracts & 1,290.81 & 2,740.70 & 1,083.00 & 1,618.00 & 0.17 \\\\\n",
      "Largest & 8.22 & 1.97 & 5.00 & 22.00 & 1.00 \\\\\n",
      "Tree2 & 482.86 & 347.66 & 406.00 & 564.00 & 0.04 \\\\\n",
      "Tree3 & 29.49 & 28.50 & 11.00 & 55.00 & 0.76 \\\\\n",
      "Complete>=3 & 136.09 & 111.95 & 83.00 & 183.00 & 0.16 \\\\\n",
      "\\end{tabular}\n",
      "\n"
     ]
    }
   ],
   "source": [
    "# ne = 'three-phase-2000G.ne'\n",
    "ne = 'constant-100k-2000G.ne'\n",
    "size = 2000\n",
    "cM = 3.0\n",
    "sim = 250\n",
    "rep = 500\n",
    "# selcoef = 0.02\n",
    "# selcoef = 0.015\n",
    "# selcoef = 0.01\n",
    "selcoef = 0.005\n",
    "suf = '../tables/isweepsel'\n",
    "filename = '-selcoef' + str(selcoef) + '-freq0.33-' + ne + '-size' + str(size) + '-cM' + str(cM) + '-sim' + str(sim) + '-rep' + str(rep)\n",
    "\n",
    "out = pd.read_csv(suf+filename+'.tsv',sep='\\t')\n",
    "out.columns = ['Feature','Avg','Var','Min','Max','S.W.']\n",
    "out.index = out['Feature']\n",
    "out = out[['Avg','Var','Min','Max','S.W.']]\n",
    "outstyle = out.style.format(decimal='.', thousands=',', precision=2)\n",
    "print(outstyle.to_latex())"
   ]
  }
 ],
 "metadata": {
  "kernelspec": {
   "display_name": "Python 3 (ipykernel)",
   "language": "python",
   "name": "python3"
  },
  "language_info": {
   "codemirror_mode": {
    "name": "ipython",
    "version": 3
   },
   "file_extension": ".py",
   "mimetype": "text/x-python",
   "name": "python",
   "nbconvert_exporter": "python",
   "pygments_lexer": "ipython3",
   "version": "3.12.0"
  }
 },
 "nbformat": 4,
 "nbformat_minor": 5
}
