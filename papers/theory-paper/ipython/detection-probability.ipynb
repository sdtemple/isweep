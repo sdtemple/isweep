{
 "cells": [
  {
   "cell_type": "markdown",
   "id": "a77d78dc-e5ed-40f0-a159-7f3caf61768c",
   "metadata": {},
   "source": [
    "## Plotting supplementary figure\n",
    "\n",
    "Simple illustration of the survival probability of Erlang distributions given different rate parameters."
   ]
  },
  {
   "cell_type": "code",
   "execution_count": 1,
   "id": "980bfaa7-6413-4994-8af5-7cedd1f4e11a",
   "metadata": {},
   "outputs": [],
   "source": [
    "import numpy as np\n",
    "import matplotlib.pyplot as plt\n",
    "from scipy.stats import gamma"
   ]
  },
  {
   "cell_type": "code",
   "execution_count": 2,
   "id": "cbf1b35c-e718-4e8b-abf2-03a5ddac0d26",
   "metadata": {},
   "outputs": [],
   "source": [
    "plt.rc(\"font\",size=14)"
   ]
  },
  {
   "cell_type": "code",
   "execution_count": 15,
   "id": "47ab03d1-e764-4b50-aee5-2e55e2e3962f",
   "metadata": {},
   "outputs": [],
   "source": [
    "# Parameters\n",
    "ws = [0.01, 0.02, 0.03, 0.04]\n",
    "colors = [\"black\", \"blue\", \"cornflowerblue\",\"lightsteelblue\"]\n",
    "TT = 500\n",
    "shp = 1\n",
    "lwd = 2\n",
    "xlab = \"Time in generations\"\n",
    "ylab = \"Survival probability\"\n",
    "tit = \"IBD segments to the right\"\n",
    "cex = 1.5\n",
    "\n",
    "# Plotting function\n",
    "def plot_survival_probability(ws, shp, colors, title, filename):\n",
    "    plt.figure()\n",
    "    for i, w in enumerate(ws):\n",
    "        plt.plot(np.arange(1, TT+1),\n",
    "                 gamma.sf(np.arange(1, TT+1), a=shp, scale=1/w),\n",
    "                 linestyle='-',\n",
    "                 linewidth=lwd,\n",
    "                 color=colors[i],\n",
    "                 label=f\"{w}\"\n",
    "                 )\n",
    "    plt.xlabel(xlab)\n",
    "    plt.ylabel(ylab)\n",
    "    plt.title(title)\n",
    "    plt.legend(title=\"Length threshold\", loc=\"upper right\",fancybox=True,shadow=True)\n",
    "    plt.grid(color=\"lightgray\")\n",
    "    # plt.savefig(filename)\n",
    "    plt.close()"
   ]
  },
  {
   "cell_type": "code",
   "execution_count": 16,
   "id": "d810e27b-2837-4b6f-9b14-6edafca0868e",
   "metadata": {},
   "outputs": [],
   "source": [
    "\n",
    "\n",
    "# File names\n",
    "pngname = \"detectable.png\"\n",
    "jpegname = \"detectable.jpeg\"\n",
    "tiffname = \"detectable.tiff\"\n",
    "\n",
    "\n",
    "# Make plots\n",
    "plot_survival_probability(ws, shp, colors, tit, pngname)\n",
    "plot_survival_probability(ws, shp, colors, tit, jpegname)\n",
    "plot_survival_probability(ws, shp, colors, tit, tiffname)\n",
    "\n",
    "# Update parameters for Erlang 2\n",
    "shp = 2\n",
    "tit = \"IBD segments overlapping\"\n",
    "pngname = \"detectable2.png\"\n",
    "jpegname = \"detectable2.jpeg\"\n",
    "tiffname = \"detectable2.tiff\"\n",
    "\n",
    "# Make plots for Erlang 2\n",
    "plot_survival_probability(ws, shp, colors, tit, pngname)\n",
    "plot_survival_probability(ws, shp, colors, tit, jpegname)\n",
    "plot_survival_probability(ws, shp, colors, tit, tiffname)"
   ]
  }
 ],
 "metadata": {
  "kernelspec": {
   "display_name": "Python 3 (ipykernel)",
   "language": "python",
   "name": "python3"
  },
  "language_info": {
   "codemirror_mode": {
    "name": "ipython",
    "version": 3
   },
   "file_extension": ".py",
   "mimetype": "text/x-python",
   "name": "python",
   "nbconvert_exporter": "python",
   "pygments_lexer": "ipython3",
   "version": "3.12.0"
  }
 },
 "nbformat": 4,
 "nbformat_minor": 5
}
