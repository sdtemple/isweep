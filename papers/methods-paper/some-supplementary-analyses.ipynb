{
 "cells": [
  {
   "cell_type": "markdown",
   "id": "fb69de6c-5a46-47ae-9d93-f3e43eb300e9",
   "metadata": {},
   "source": [
    "# Some supplementary figures and tables\n",
    "\n",
    "### Concerning: location of IBD inference, if allele frequency is known\n",
    "\n",
    "Note that the data is not available in this repo, so the `pd.read_csv()` will throw an error. \n",
    "\n",
    "To reproduce, you can create the data following the pipelines."
   ]
  },
  {
   "cell_type": "code",
   "execution_count": 2,
   "id": "e4c63068-b179-49d0-9158-02297eec02ed",
   "metadata": {},
   "outputs": [],
   "source": [
    "import scipy.stats as stats\n",
    "import numpy as np\n",
    "import pandas as pd\n",
    "import matplotlib.pyplot as plt\n",
    "import seaborn as sns\n",
    "plt.rc('font',size=14)"
   ]
  },
  {
   "cell_type": "markdown",
   "id": "a6135543-db86-4451-8800-0abb2c233f0e",
   "metadata": {},
   "source": [
    "## Loading in and manipulating data\n",
    "\n",
    "There is some sloppy code, but the goal is:\n",
    "- Subset to have an equal bin sizes of (selection coefficient, allele frequency bin)\n",
    "\n",
    "There may be some small intricacies where a few rows have NA's, so addressing those."
   ]
  },
  {
   "cell_type": "code",
   "execution_count": 93,
   "id": "b5661acd-8f29-46fb-9c2b-ae3bc5e8b181",
   "metadata": {},
   "outputs": [
    {
     "name": "stdout",
     "output_type": "stream",
     "text": [
      "(7089, 9)\n",
      "(7080, 9)\n"
     ]
    },
    {
     "data": {
      "text/html": [
       "<div>\n",
       "<style scoped>\n",
       "    .dataframe tbody tr th:only-of-type {\n",
       "        vertical-align: middle;\n",
       "    }\n",
       "\n",
       "    .dataframe tbody tr th {\n",
       "        vertical-align: top;\n",
       "    }\n",
       "\n",
       "    .dataframe thead th {\n",
       "        text-align: right;\n",
       "    }\n",
       "</style>\n",
       "<table border=\"1\" class=\"dataframe\">\n",
       "  <thead>\n",
       "    <tr style=\"text-align: right;\">\n",
       "      <th></th>\n",
       "      <th>true_frequency</th>\n",
       "      <th>assumed_frequency</th>\n",
       "      <th>mid_est</th>\n",
       "      <th>low_est</th>\n",
       "      <th>upp_est</th>\n",
       "      <th>model</th>\n",
       "      <th>method</th>\n",
       "      <th>length</th>\n",
       "      <th>selcoef</th>\n",
       "    </tr>\n",
       "  </thead>\n",
       "  <tbody>\n",
       "    <tr>\n",
       "      <th>0</th>\n",
       "      <td>0.1005</td>\n",
       "      <td>0.125</td>\n",
       "      <td>0.03245165804352287</td>\n",
       "      <td>0.025931802922161077</td>\n",
       "      <td>0.03897151316488466</td>\n",
       "      <td>a</td>\n",
       "      <td>infloc</td>\n",
       "      <td>3.0</td>\n",
       "      <td>0.035</td>\n",
       "    </tr>\n",
       "    <tr>\n",
       "      <th>1</th>\n",
       "      <td>0.3122</td>\n",
       "      <td>0.275</td>\n",
       "      <td>0.03638904347121853</td>\n",
       "      <td>0.03109740764830634</td>\n",
       "      <td>0.041680679294130725</td>\n",
       "      <td>a</td>\n",
       "      <td>infloc</td>\n",
       "      <td>3.0</td>\n",
       "      <td>0.035</td>\n",
       "    </tr>\n",
       "    <tr>\n",
       "      <th>2</th>\n",
       "      <td>0.4744</td>\n",
       "      <td>0.425</td>\n",
       "      <td>0.03489430879704939</td>\n",
       "      <td>0.030570202070689733</td>\n",
       "      <td>0.039218415523409045</td>\n",
       "      <td>a</td>\n",
       "      <td>infloc</td>\n",
       "      <td>3.0</td>\n",
       "      <td>0.035</td>\n",
       "    </tr>\n",
       "    <tr>\n",
       "      <th>3</th>\n",
       "      <td>0.1623</td>\n",
       "      <td>0.125</td>\n",
       "      <td>0.04245499479702876</td>\n",
       "      <td>0.034082684713699116</td>\n",
       "      <td>0.0508273048803584</td>\n",
       "      <td>a</td>\n",
       "      <td>infloc</td>\n",
       "      <td>3.0</td>\n",
       "      <td>0.035</td>\n",
       "    </tr>\n",
       "    <tr>\n",
       "      <th>4</th>\n",
       "      <td>0.2328</td>\n",
       "      <td>0.2</td>\n",
       "      <td>0.036148625343145974</td>\n",
       "      <td>0.03016169298028552</td>\n",
       "      <td>0.04213555770600643</td>\n",
       "      <td>a</td>\n",
       "      <td>infloc</td>\n",
       "      <td>3.0</td>\n",
       "      <td>0.035</td>\n",
       "    </tr>\n",
       "  </tbody>\n",
       "</table>\n",
       "</div>"
      ],
      "text/plain": [
       "  true_frequency assumed_frequency               mid_est  \\\n",
       "0         0.1005             0.125   0.03245165804352287   \n",
       "1         0.3122             0.275   0.03638904347121853   \n",
       "2         0.4744             0.425   0.03489430879704939   \n",
       "3         0.1623             0.125   0.04245499479702876   \n",
       "4         0.2328               0.2  0.036148625343145974   \n",
       "\n",
       "                low_est               upp_est model  method  length  selcoef  \n",
       "0  0.025931802922161077   0.03897151316488466     a  infloc     3.0    0.035  \n",
       "1   0.03109740764830634  0.041680679294130725     a  infloc     3.0    0.035  \n",
       "2  0.030570202070689733  0.039218415523409045     a  infloc     3.0    0.035  \n",
       "3  0.034082684713699116    0.0508273048803584     a  infloc     3.0    0.035  \n",
       "4   0.03016169298028552   0.04213555770600643     a  infloc     3.0    0.035  "
      ]
     },
     "execution_count": 93,
     "metadata": {},
     "output_type": "execute_result"
    }
   ],
   "source": [
    "table = pd.read_csv('fixed.loc.final.tsv',sep='\\t',header=None)\n",
    "table.columns = ['true_frequency',\n",
    "                 'assumed_frequency',\n",
    "                 'mid_est',\n",
    "                 'low_est',\n",
    "                 'upp_est',\n",
    "                 'model',\n",
    "                 'method',\n",
    "                 'length',\n",
    "                 'selcoef'\n",
    "                ]\n",
    "print(table.shape)\n",
    "table = table[table['assumed_frequency']!='.']\n",
    "print(table.shape)\n",
    "table.head()"
   ]
  },
  {
   "cell_type": "code",
   "execution_count": 94,
   "id": "e56dff3a-8603-4f0c-ac73-f49220893fd4",
   "metadata": {},
   "outputs": [
    {
     "name": "stderr",
     "output_type": "stream",
     "text": [
      "/tmp/ipykernel_73329/2691425677.py:8: SettingWithCopyWarning: \n",
      "A value is trying to be set on a copy of a slice from a DataFrame.\n",
      "Try using .loc[row_indexer,col_indexer] = value instead\n",
      "\n",
      "See the caveats in the documentation: https://pandas.pydata.org/pandas-docs/stable/user_guide/indexing.html#returning-a-view-versus-a-copy\n",
      "  subtable1[col] = subtable1[col].astype(float)\n",
      "/tmp/ipykernel_73329/2691425677.py:9: SettingWithCopyWarning: \n",
      "A value is trying to be set on a copy of a slice from a DataFrame.\n",
      "Try using .loc[row_indexer,col_indexer] = value instead\n",
      "\n",
      "See the caveats in the documentation: https://pandas.pydata.org/pandas-docs/stable/user_guide/indexing.html#returning-a-view-versus-a-copy\n",
      "  subtable2[col] = subtable2[col].astype(float)\n",
      "/tmp/ipykernel_73329/2691425677.py:10: SettingWithCopyWarning: \n",
      "A value is trying to be set on a copy of a slice from a DataFrame.\n",
      "Try using .loc[row_indexer,col_indexer] = value instead\n",
      "\n",
      "See the caveats in the documentation: https://pandas.pydata.org/pandas-docs/stable/user_guide/indexing.html#returning-a-view-versus-a-copy\n",
      "  subtable3[col] = subtable3[col].astype(float)\n",
      "/tmp/ipykernel_73329/2691425677.py:11: SettingWithCopyWarning: \n",
      "A value is trying to be set on a copy of a slice from a DataFrame.\n",
      "Try using .loc[row_indexer,col_indexer] = value instead\n",
      "\n",
      "See the caveats in the documentation: https://pandas.pydata.org/pandas-docs/stable/user_guide/indexing.html#returning-a-view-versus-a-copy\n",
      "  subtable4[col] = subtable4[col].astype(float)\n",
      "/tmp/ipykernel_73329/2691425677.py:8: SettingWithCopyWarning: \n",
      "A value is trying to be set on a copy of a slice from a DataFrame.\n",
      "Try using .loc[row_indexer,col_indexer] = value instead\n",
      "\n",
      "See the caveats in the documentation: https://pandas.pydata.org/pandas-docs/stable/user_guide/indexing.html#returning-a-view-versus-a-copy\n",
      "  subtable1[col] = subtable1[col].astype(float)\n",
      "/tmp/ipykernel_73329/2691425677.py:9: SettingWithCopyWarning: \n",
      "A value is trying to be set on a copy of a slice from a DataFrame.\n",
      "Try using .loc[row_indexer,col_indexer] = value instead\n",
      "\n",
      "See the caveats in the documentation: https://pandas.pydata.org/pandas-docs/stable/user_guide/indexing.html#returning-a-view-versus-a-copy\n",
      "  subtable2[col] = subtable2[col].astype(float)\n",
      "/tmp/ipykernel_73329/2691425677.py:10: SettingWithCopyWarning: \n",
      "A value is trying to be set on a copy of a slice from a DataFrame.\n",
      "Try using .loc[row_indexer,col_indexer] = value instead\n",
      "\n",
      "See the caveats in the documentation: https://pandas.pydata.org/pandas-docs/stable/user_guide/indexing.html#returning-a-view-versus-a-copy\n",
      "  subtable3[col] = subtable3[col].astype(float)\n",
      "/tmp/ipykernel_73329/2691425677.py:11: SettingWithCopyWarning: \n",
      "A value is trying to be set on a copy of a slice from a DataFrame.\n",
      "Try using .loc[row_indexer,col_indexer] = value instead\n",
      "\n",
      "See the caveats in the documentation: https://pandas.pydata.org/pandas-docs/stable/user_guide/indexing.html#returning-a-view-versus-a-copy\n",
      "  subtable4[col] = subtable4[col].astype(float)\n",
      "/tmp/ipykernel_73329/2691425677.py:8: SettingWithCopyWarning: \n",
      "A value is trying to be set on a copy of a slice from a DataFrame.\n",
      "Try using .loc[row_indexer,col_indexer] = value instead\n",
      "\n",
      "See the caveats in the documentation: https://pandas.pydata.org/pandas-docs/stable/user_guide/indexing.html#returning-a-view-versus-a-copy\n",
      "  subtable1[col] = subtable1[col].astype(float)\n",
      "/tmp/ipykernel_73329/2691425677.py:9: SettingWithCopyWarning: \n",
      "A value is trying to be set on a copy of a slice from a DataFrame.\n",
      "Try using .loc[row_indexer,col_indexer] = value instead\n",
      "\n",
      "See the caveats in the documentation: https://pandas.pydata.org/pandas-docs/stable/user_guide/indexing.html#returning-a-view-versus-a-copy\n",
      "  subtable2[col] = subtable2[col].astype(float)\n",
      "/tmp/ipykernel_73329/2691425677.py:10: SettingWithCopyWarning: \n",
      "A value is trying to be set on a copy of a slice from a DataFrame.\n",
      "Try using .loc[row_indexer,col_indexer] = value instead\n",
      "\n",
      "See the caveats in the documentation: https://pandas.pydata.org/pandas-docs/stable/user_guide/indexing.html#returning-a-view-versus-a-copy\n",
      "  subtable3[col] = subtable3[col].astype(float)\n",
      "/tmp/ipykernel_73329/2691425677.py:11: SettingWithCopyWarning: \n",
      "A value is trying to be set on a copy of a slice from a DataFrame.\n",
      "Try using .loc[row_indexer,col_indexer] = value instead\n",
      "\n",
      "See the caveats in the documentation: https://pandas.pydata.org/pandas-docs/stable/user_guide/indexing.html#returning-a-view-versus-a-copy\n",
      "  subtable4[col] = subtable4[col].astype(float)\n",
      "/tmp/ipykernel_73329/2691425677.py:8: SettingWithCopyWarning: \n",
      "A value is trying to be set on a copy of a slice from a DataFrame.\n",
      "Try using .loc[row_indexer,col_indexer] = value instead\n",
      "\n",
      "See the caveats in the documentation: https://pandas.pydata.org/pandas-docs/stable/user_guide/indexing.html#returning-a-view-versus-a-copy\n",
      "  subtable1[col] = subtable1[col].astype(float)\n",
      "/tmp/ipykernel_73329/2691425677.py:9: SettingWithCopyWarning: \n",
      "A value is trying to be set on a copy of a slice from a DataFrame.\n",
      "Try using .loc[row_indexer,col_indexer] = value instead\n",
      "\n",
      "See the caveats in the documentation: https://pandas.pydata.org/pandas-docs/stable/user_guide/indexing.html#returning-a-view-versus-a-copy\n",
      "  subtable2[col] = subtable2[col].astype(float)\n",
      "/tmp/ipykernel_73329/2691425677.py:10: SettingWithCopyWarning: \n",
      "A value is trying to be set on a copy of a slice from a DataFrame.\n",
      "Try using .loc[row_indexer,col_indexer] = value instead\n",
      "\n",
      "See the caveats in the documentation: https://pandas.pydata.org/pandas-docs/stable/user_guide/indexing.html#returning-a-view-versus-a-copy\n",
      "  subtable3[col] = subtable3[col].astype(float)\n",
      "/tmp/ipykernel_73329/2691425677.py:11: SettingWithCopyWarning: \n",
      "A value is trying to be set on a copy of a slice from a DataFrame.\n",
      "Try using .loc[row_indexer,col_indexer] = value instead\n",
      "\n",
      "See the caveats in the documentation: https://pandas.pydata.org/pandas-docs/stable/user_guide/indexing.html#returning-a-view-versus-a-copy\n",
      "  subtable4[col] = subtable4[col].astype(float)\n",
      "/tmp/ipykernel_73329/2691425677.py:8: SettingWithCopyWarning: \n",
      "A value is trying to be set on a copy of a slice from a DataFrame.\n",
      "Try using .loc[row_indexer,col_indexer] = value instead\n",
      "\n",
      "See the caveats in the documentation: https://pandas.pydata.org/pandas-docs/stable/user_guide/indexing.html#returning-a-view-versus-a-copy\n",
      "  subtable1[col] = subtable1[col].astype(float)\n",
      "/tmp/ipykernel_73329/2691425677.py:9: SettingWithCopyWarning: \n",
      "A value is trying to be set on a copy of a slice from a DataFrame.\n",
      "Try using .loc[row_indexer,col_indexer] = value instead\n",
      "\n",
      "See the caveats in the documentation: https://pandas.pydata.org/pandas-docs/stable/user_guide/indexing.html#returning-a-view-versus-a-copy\n",
      "  subtable2[col] = subtable2[col].astype(float)\n",
      "/tmp/ipykernel_73329/2691425677.py:10: SettingWithCopyWarning: \n",
      "A value is trying to be set on a copy of a slice from a DataFrame.\n",
      "Try using .loc[row_indexer,col_indexer] = value instead\n",
      "\n",
      "See the caveats in the documentation: https://pandas.pydata.org/pandas-docs/stable/user_guide/indexing.html#returning-a-view-versus-a-copy\n",
      "  subtable3[col] = subtable3[col].astype(float)\n",
      "/tmp/ipykernel_73329/2691425677.py:11: SettingWithCopyWarning: \n",
      "A value is trying to be set on a copy of a slice from a DataFrame.\n",
      "Try using .loc[row_indexer,col_indexer] = value instead\n",
      "\n",
      "See the caveats in the documentation: https://pandas.pydata.org/pandas-docs/stable/user_guide/indexing.html#returning-a-view-versus-a-copy\n",
      "  subtable4[col] = subtable4[col].astype(float)\n",
      "/tmp/ipykernel_73329/2691425677.py:8: SettingWithCopyWarning: \n",
      "A value is trying to be set on a copy of a slice from a DataFrame.\n",
      "Try using .loc[row_indexer,col_indexer] = value instead\n",
      "\n",
      "See the caveats in the documentation: https://pandas.pydata.org/pandas-docs/stable/user_guide/indexing.html#returning-a-view-versus-a-copy\n",
      "  subtable1[col] = subtable1[col].astype(float)\n",
      "/tmp/ipykernel_73329/2691425677.py:9: SettingWithCopyWarning: \n",
      "A value is trying to be set on a copy of a slice from a DataFrame.\n",
      "Try using .loc[row_indexer,col_indexer] = value instead\n",
      "\n",
      "See the caveats in the documentation: https://pandas.pydata.org/pandas-docs/stable/user_guide/indexing.html#returning-a-view-versus-a-copy\n",
      "  subtable2[col] = subtable2[col].astype(float)\n",
      "/tmp/ipykernel_73329/2691425677.py:10: SettingWithCopyWarning: \n",
      "A value is trying to be set on a copy of a slice from a DataFrame.\n",
      "Try using .loc[row_indexer,col_indexer] = value instead\n",
      "\n",
      "See the caveats in the documentation: https://pandas.pydata.org/pandas-docs/stable/user_guide/indexing.html#returning-a-view-versus-a-copy\n",
      "  subtable3[col] = subtable3[col].astype(float)\n",
      "/tmp/ipykernel_73329/2691425677.py:11: SettingWithCopyWarning: \n",
      "A value is trying to be set on a copy of a slice from a DataFrame.\n",
      "Try using .loc[row_indexer,col_indexer] = value instead\n",
      "\n",
      "See the caveats in the documentation: https://pandas.pydata.org/pandas-docs/stable/user_guide/indexing.html#returning-a-view-versus-a-copy\n",
      "  subtable4[col] = subtable4[col].astype(float)\n",
      "/tmp/ipykernel_73329/2691425677.py:8: SettingWithCopyWarning: \n",
      "A value is trying to be set on a copy of a slice from a DataFrame.\n",
      "Try using .loc[row_indexer,col_indexer] = value instead\n",
      "\n",
      "See the caveats in the documentation: https://pandas.pydata.org/pandas-docs/stable/user_guide/indexing.html#returning-a-view-versus-a-copy\n",
      "  subtable1[col] = subtable1[col].astype(float)\n",
      "/tmp/ipykernel_73329/2691425677.py:9: SettingWithCopyWarning: \n",
      "A value is trying to be set on a copy of a slice from a DataFrame.\n",
      "Try using .loc[row_indexer,col_indexer] = value instead\n",
      "\n",
      "See the caveats in the documentation: https://pandas.pydata.org/pandas-docs/stable/user_guide/indexing.html#returning-a-view-versus-a-copy\n",
      "  subtable2[col] = subtable2[col].astype(float)\n",
      "/tmp/ipykernel_73329/2691425677.py:10: SettingWithCopyWarning: \n",
      "A value is trying to be set on a copy of a slice from a DataFrame.\n",
      "Try using .loc[row_indexer,col_indexer] = value instead\n",
      "\n",
      "See the caveats in the documentation: https://pandas.pydata.org/pandas-docs/stable/user_guide/indexing.html#returning-a-view-versus-a-copy\n",
      "  subtable3[col] = subtable3[col].astype(float)\n",
      "/tmp/ipykernel_73329/2691425677.py:11: SettingWithCopyWarning: \n",
      "A value is trying to be set on a copy of a slice from a DataFrame.\n",
      "Try using .loc[row_indexer,col_indexer] = value instead\n",
      "\n",
      "See the caveats in the documentation: https://pandas.pydata.org/pandas-docs/stable/user_guide/indexing.html#returning-a-view-versus-a-copy\n",
      "  subtable4[col] = subtable4[col].astype(float)\n"
     ]
    },
    {
     "data": {
      "text/plain": [
       "((1760, 9), (1771, 9), (1770, 9), (1771, 9))"
      ]
     },
     "execution_count": 94,
     "metadata": {},
     "output_type": "execute_result"
    }
   ],
   "source": [
    "subtable1 = table[table['method']=='infloc']\n",
    "subtable2 = table[(table['method']=='trueloc')&(table['length']==3.0)]\n",
    "subtable3 = table[(table['method']=='trueloc')&(table['length']==2.0)]\n",
    "subtable4 = table[(table['method']=='trueloc')&(table['length']==1.0)]\n",
    "\n",
    "numcolumns = ['true_frequency','assumed_frequency','mid_est','low_est','upp_est','length','selcoef']\n",
    "for col in numcolumns:\n",
    "    subtable1[col] = subtable1[col].astype(float)\n",
    "    subtable2[col] = subtable2[col].astype(float)\n",
    "    subtable3[col] = subtable3[col].astype(float)\n",
    "    subtable4[col] = subtable4[col].astype(float)\n",
    "\n",
    "subtable1.shape,subtable2.shape,subtable3.shape,subtable4.shape"
   ]
  },
  {
   "cell_type": "code",
   "execution_count": 95,
   "id": "6b8ff090-d440-429e-a73f-6a65f74cdecd",
   "metadata": {},
   "outputs": [
    {
     "name": "stderr",
     "output_type": "stream",
     "text": [
      "/tmp/ipykernel_73329/172417151.py:2: SettingWithCopyWarning: \n",
      "A value is trying to be set on a copy of a slice from a DataFrame.\n",
      "Try using .loc[row_indexer,col_indexer] = value instead\n",
      "\n",
      "See the caveats in the documentation: https://pandas.pydata.org/pandas-docs/stable/user_guide/indexing.html#returning-a-view-versus-a-copy\n",
      "  subtable1['freqbins'] = pd.cut(subtable1['true_frequency'],bins=binvalues,labels=['(0.1, 0.3]','(0.3, 0.5]','(0.5, 0.7]','(0.7, 0.9]'])\n"
     ]
    },
    {
     "data": {
      "text/plain": [
       "true_frequency\n",
       "(0.1, 0.3]    647\n",
       "(0.3, 0.5]    425\n",
       "(0.7, 0.9]    364\n",
       "(0.5, 0.7]    324\n",
       "Name: count, dtype: int64"
      ]
     },
     "execution_count": 95,
     "metadata": {},
     "output_type": "execute_result"
    }
   ],
   "source": [
    "binvalues=[0.1,0.3,0.5,0.7,0.9]\n",
    "subtable1['freqbins'] = pd.cut(subtable1['true_frequency'],bins=binvalues,labels=['(0.1, 0.3]','(0.3, 0.5]','(0.5, 0.7]','(0.7, 0.9]'])\n",
    "pd.cut(subtable1['true_frequency'],bins=binvalues).value_counts()"
   ]
  },
  {
   "cell_type": "code",
   "execution_count": 96,
   "id": "eb1a398d-92c2-4008-a402-365c3edca32a",
   "metadata": {},
   "outputs": [
    {
     "name": "stderr",
     "output_type": "stream",
     "text": [
      "/tmp/ipykernel_73329/2862350317.py:1: SettingWithCopyWarning: \n",
      "A value is trying to be set on a copy of a slice from a DataFrame.\n",
      "Try using .loc[row_indexer,col_indexer] = value instead\n",
      "\n",
      "See the caveats in the documentation: https://pandas.pydata.org/pandas-docs/stable/user_guide/indexing.html#returning-a-view-versus-a-copy\n",
      "  subtable2['freqbins'] = pd.cut(subtable2['true_frequency'],bins=binvalues,labels=['(0.1, 0.3]','(0.3, 0.5]','(0.5, 0.7]','(0.7, 0.9]'])\n",
      "/tmp/ipykernel_73329/2862350317.py:2: SettingWithCopyWarning: \n",
      "A value is trying to be set on a copy of a slice from a DataFrame.\n",
      "Try using .loc[row_indexer,col_indexer] = value instead\n",
      "\n",
      "See the caveats in the documentation: https://pandas.pydata.org/pandas-docs/stable/user_guide/indexing.html#returning-a-view-versus-a-copy\n",
      "  subtable3['freqbins'] = pd.cut(subtable3['true_frequency'],bins=binvalues,labels=['(0.1, 0.3]','(0.3, 0.5]','(0.5, 0.7]','(0.7, 0.9]'])\n",
      "/tmp/ipykernel_73329/2862350317.py:3: SettingWithCopyWarning: \n",
      "A value is trying to be set on a copy of a slice from a DataFrame.\n",
      "Try using .loc[row_indexer,col_indexer] = value instead\n",
      "\n",
      "See the caveats in the documentation: https://pandas.pydata.org/pandas-docs/stable/user_guide/indexing.html#returning-a-view-versus-a-copy\n",
      "  subtable4['freqbins'] = pd.cut(subtable4['true_frequency'],bins=binvalues,labels=['(0.1, 0.3]','(0.3, 0.5]','(0.5, 0.7]','(0.7, 0.9]'])\n"
     ]
    }
   ],
   "source": [
    "subtable2['freqbins'] = pd.cut(subtable2['true_frequency'],bins=binvalues,labels=['(0.1, 0.3]','(0.3, 0.5]','(0.5, 0.7]','(0.7, 0.9]'])\n",
    "subtable3['freqbins'] = pd.cut(subtable3['true_frequency'],bins=binvalues,labels=['(0.1, 0.3]','(0.3, 0.5]','(0.5, 0.7]','(0.7, 0.9]'])\n",
    "subtable4['freqbins'] = pd.cut(subtable4['true_frequency'],bins=binvalues,labels=['(0.1, 0.3]','(0.3, 0.5]','(0.5, 0.7]','(0.7, 0.9]'])"
   ]
  },
  {
   "cell_type": "code",
   "execution_count": 97,
   "id": "5bd63247-de90-45a9-a946-5dd56306c9bf",
   "metadata": {},
   "outputs": [],
   "source": [
    "mx1 = 50\n",
    "mx2 = 40\n",
    "freqlabels = ['(0.1, 0.3]','(0.3, 0.5]','(0.5, 0.7]','(0.7, 0.9]']\n",
    "selcoeflabels = [0.015,0.02,0.025,0.03,0.035,0.04]\n",
    "\n",
    "tups1 = [('(0.1, 0.3]',s) for s in selcoeflabels]\n",
    "tups2 = [('(0.3, 0.5]',s) for s in selcoeflabels]\n",
    "tups3 = [('(0.5, 0.7]',s) for s in selcoeflabels]\n",
    "tups4 = [('(0.7, 0.9]',s) for s in selcoeflabels]\n",
    "tups = tups1 + tups2 + tups3 + tups4"
   ]
  },
  {
   "cell_type": "code",
   "execution_count": 98,
   "id": "52fd5fca-956a-478f-b526-cf064788d25d",
   "metadata": {},
   "outputs": [],
   "source": [
    "# first subtable\n",
    "first = tups[0]\n",
    "temptable = subtable1\n",
    "reducedtable = temptable[(temptable['selcoef']==first[1])&(temptable['freqbins']==first[0])][:mx1]\n",
    "\n",
    "for t in tups[1:]:\n",
    "    subtable = temptable[(temptable['selcoef']==t[1])&(temptable['freqbins']==t[0])]\n",
    "    try:\n",
    "        subtable=subtable[:mx1]\n",
    "    except:\n",
    "        subtable=subtable[:mx2]\n",
    "    reducedtable = pd.concat((reducedtable,subtable))\n",
    "reducedtable.reset_index(inplace=True)\n",
    "reducedtable1 = reducedtable\n",
    "\n",
    "# second subtable\n",
    "first = tups[0]\n",
    "temptable = subtable2\n",
    "reducedtable = temptable[(temptable['selcoef']==first[1])&(temptable['freqbins']==first[0])][:mx1]\n",
    "\n",
    "for t in tups[1:]:\n",
    "    subtable = temptable[(temptable['selcoef']==t[1])&(temptable['freqbins']==t[0])]\n",
    "    try:\n",
    "        subtable=subtable[:mx1]\n",
    "    except:\n",
    "        subtable=subtable[:mx2]\n",
    "    reducedtable = pd.concat((reducedtable,subtable))\n",
    "reducedtable.reset_index(inplace=True)\n",
    "reducedtable2 = reducedtable\n",
    "\n",
    "# third subtable\n",
    "first = tups[0]\n",
    "temptable = subtable3\n",
    "reducedtable = temptable[(temptable['selcoef']==first[1])&(temptable['freqbins']==first[0])][:mx1]\n",
    "\n",
    "for t in tups[1:]:\n",
    "    subtable = temptable[(temptable['selcoef']==t[1])&(temptable['freqbins']==t[0])]\n",
    "    try:\n",
    "        subtable=subtable[:mx1]\n",
    "    except:\n",
    "        subtable=subtable[:mx2]\n",
    "    reducedtable = pd.concat((reducedtable,subtable))\n",
    "reducedtable.reset_index(inplace=True)\n",
    "reducedtable3 = reducedtable\n",
    "\n",
    "# fourth subtable\n",
    "first = tups[0]\n",
    "temptable = subtable4\n",
    "reducedtable = temptable[(temptable['selcoef']==first[1])&(temptable['freqbins']==first[0])][:mx1]\n",
    "\n",
    "for t in tups[1:]:\n",
    "    subtable = temptable[(temptable['selcoef']==t[1])&(temptable['freqbins']==t[0])]\n",
    "    try:\n",
    "        subtable=subtable[:mx1]\n",
    "    except:\n",
    "        subtable=subtable[:mx2]\n",
    "    reducedtable = pd.concat((reducedtable,subtable))\n",
    "reducedtable.reset_index(inplace=True)\n",
    "reducedtable4 = reducedtable"
   ]
  },
  {
   "cell_type": "code",
   "execution_count": 42,
   "id": "71d74393-a8cd-45f9-9fe1-6c017d885c2c",
   "metadata": {},
   "outputs": [
    {
     "data": {
      "text/html": [
       "<div>\n",
       "<style scoped>\n",
       "    .dataframe tbody tr th:only-of-type {\n",
       "        vertical-align: middle;\n",
       "    }\n",
       "\n",
       "    .dataframe tbody tr th {\n",
       "        vertical-align: top;\n",
       "    }\n",
       "\n",
       "    .dataframe thead th {\n",
       "        text-align: right;\n",
       "    }\n",
       "</style>\n",
       "<table border=\"1\" class=\"dataframe\">\n",
       "  <thead>\n",
       "    <tr style=\"text-align: right;\">\n",
       "      <th></th>\n",
       "      <th>index</th>\n",
       "      <th>true_frequency</th>\n",
       "      <th>assumed_frequency</th>\n",
       "      <th>mid_est</th>\n",
       "      <th>low_est</th>\n",
       "      <th>upp_est</th>\n",
       "      <th>model</th>\n",
       "      <th>method</th>\n",
       "      <th>length</th>\n",
       "      <th>selcoef</th>\n",
       "      <th>freqbins</th>\n",
       "    </tr>\n",
       "  </thead>\n",
       "  <tbody>\n",
       "    <tr>\n",
       "      <th>0</th>\n",
       "      <td>400</td>\n",
       "      <td>0.1068</td>\n",
       "      <td>0.125</td>\n",
       "      <td>0.024569</td>\n",
       "      <td>0.011847</td>\n",
       "      <td>0.037291</td>\n",
       "      <td>a</td>\n",
       "      <td>Inferred frequency, location</td>\n",
       "      <td>3.0</td>\n",
       "      <td>0.02</td>\n",
       "      <td>(0.1, 0.3]</td>\n",
       "    </tr>\n",
       "    <tr>\n",
       "      <th>1</th>\n",
       "      <td>401</td>\n",
       "      <td>0.1464</td>\n",
       "      <td>0.100</td>\n",
       "      <td>0.027699</td>\n",
       "      <td>0.017705</td>\n",
       "      <td>0.037693</td>\n",
       "      <td>a</td>\n",
       "      <td>Inferred frequency, location</td>\n",
       "      <td>3.0</td>\n",
       "      <td>0.02</td>\n",
       "      <td>(0.1, 0.3]</td>\n",
       "    </tr>\n",
       "    <tr>\n",
       "      <th>2</th>\n",
       "      <td>402</td>\n",
       "      <td>0.1102</td>\n",
       "      <td>0.125</td>\n",
       "      <td>0.023801</td>\n",
       "      <td>0.015003</td>\n",
       "      <td>0.032599</td>\n",
       "      <td>a</td>\n",
       "      <td>Inferred frequency, location</td>\n",
       "      <td>3.0</td>\n",
       "      <td>0.02</td>\n",
       "      <td>(0.1, 0.3]</td>\n",
       "    </tr>\n",
       "    <tr>\n",
       "      <th>3</th>\n",
       "      <td>403</td>\n",
       "      <td>0.1326</td>\n",
       "      <td>0.150</td>\n",
       "      <td>0.025209</td>\n",
       "      <td>0.017070</td>\n",
       "      <td>0.033347</td>\n",
       "      <td>a</td>\n",
       "      <td>Inferred frequency, location</td>\n",
       "      <td>3.0</td>\n",
       "      <td>0.02</td>\n",
       "      <td>(0.1, 0.3]</td>\n",
       "    </tr>\n",
       "    <tr>\n",
       "      <th>4</th>\n",
       "      <td>404</td>\n",
       "      <td>0.1123</td>\n",
       "      <td>0.125</td>\n",
       "      <td>0.019161</td>\n",
       "      <td>0.007162</td>\n",
       "      <td>0.031160</td>\n",
       "      <td>a</td>\n",
       "      <td>Inferred frequency, location</td>\n",
       "      <td>3.0</td>\n",
       "      <td>0.02</td>\n",
       "      <td>(0.1, 0.3]</td>\n",
       "    </tr>\n",
       "  </tbody>\n",
       "</table>\n",
       "</div>"
      ],
      "text/plain": [
       "   index  true_frequency  assumed_frequency   mid_est   low_est   upp_est  \\\n",
       "0    400          0.1068              0.125  0.024569  0.011847  0.037291   \n",
       "1    401          0.1464              0.100  0.027699  0.017705  0.037693   \n",
       "2    402          0.1102              0.125  0.023801  0.015003  0.032599   \n",
       "3    403          0.1326              0.150  0.025209  0.017070  0.033347   \n",
       "4    404          0.1123              0.125  0.019161  0.007162  0.031160   \n",
       "\n",
       "  model                        method  length  selcoef    freqbins  \n",
       "0     a  Inferred frequency, location     3.0     0.02  (0.1, 0.3]  \n",
       "1     a  Inferred frequency, location     3.0     0.02  (0.1, 0.3]  \n",
       "2     a  Inferred frequency, location     3.0     0.02  (0.1, 0.3]  \n",
       "3     a  Inferred frequency, location     3.0     0.02  (0.1, 0.3]  \n",
       "4     a  Inferred frequency, location     3.0     0.02  (0.1, 0.3]  "
      ]
     },
     "execution_count": 42,
     "metadata": {},
     "output_type": "execute_result"
    }
   ],
   "source": [
    "table3 = pd.concat((reducedtable1,reducedtable2))\n",
    "table321 = pd.concat((reducedtable2,reducedtable3,reducedtable4))\n",
    "\n",
    "table3['method'] = table3['method'].replace('trueloc', 'True frequency, location')\n",
    "table3['method'] = table3['method'].replace('infloc', 'Inferred frequency, location')\n",
    "\n",
    "\n",
    "table321['method'] = table321['method'].replace('trueloc', 'True frequency, location')\n",
    "table321['method'] = table321['method'].replace('infloc', 'Inferred frequency, location')\n",
    "\n",
    "table3.head()"
   ]
  },
  {
   "cell_type": "markdown",
   "id": "047c2e5a-7471-4d48-8fb8-d71cc777286e",
   "metadata": {},
   "source": [
    "## Plotting the results\n",
    "\n",
    "Some of these figures appear in the supplementary material."
   ]
  },
  {
   "cell_type": "code",
   "execution_count": 44,
   "id": "edb0b6c2-7359-4222-bd82-69b678b38ba7",
   "metadata": {},
   "outputs": [
    {
     "data": {
      "image/png": "[encoded data removed]",
      "text/plain": [
       "<Figure size 640x480 with 1 Axes>"
      ]
     },
     "metadata": {},
     "output_type": "display_data"
    }
   ],
   "source": [
    "sns.boxplot(table3,\n",
    "            x='selcoef',\n",
    "            y='mid_est',\n",
    "            hue='method',\n",
    "            palette='colorblind',\n",
    "            showfliers=False,\n",
    "            gap=0.1,\n",
    "            width=0.75,\n",
    "            saturation=3.\n",
    "           )\n",
    "plt.ylim(0.0,0.06)\n",
    "plt.grid(alpha=0.33)\n",
    "plt.xlabel('Selection coefficient')\n",
    "plt.ylabel('Estimate')\n",
    "plt.legend(title='Parameter conditioning')\n",
    "\n",
    "# plt.axhline(0.03,0.51,0.67,linestyle='dotted',color='tab:green',linewidth=3)\n",
    "plt.axhline(0.035,0.6,0.8,linestyle='solid',color='tab:brown',linewidth=2,alpha=0.75)\n",
    "plt.axhline(0.04,0.8,1.,linestyle='solid',color='tab:brown',linewidth=2,alpha=0.75)\n",
    "plt.axhline(0.03,0.4,0.6,linestyle='solid',color='tab:brown',linewidth=2,alpha=0.75)\n",
    "plt.axhline(0.025,0.2,0.4,linestyle='solid',color='tab:brown',linewidth=2,alpha=0.75)\n",
    "plt.axhline(0.02,0.,0.2,linestyle='solid',color='tab:brown',linewidth=2,alpha=0.75)"
   ]
  },
  {
   "cell_type": "code",
   "execution_count": 26,
   "id": "118a2c58-3011-49c5-a2b7-8bf418117b60",
   "metadata": {},
   "outputs": [
    {
     "data": {
      "image/png": "[encoded data removed]",
      "text/plain": [
       "<Figure size 640x480 with 1 Axes>"
      ]
     },
     "metadata": {},
     "output_type": "display_data"
    }
   ],
   "source": [
    "table321['diff'] = table321['mid_est'] - table321['selcoef']\n",
    "sns.boxplot(table321,\n",
    "            x='freqbins',\n",
    "            y='diff',\n",
    "            hue='length',\n",
    "            palette='summer',\n",
    "            showfliers=False,\n",
    "            gap=0.1,\n",
    "            width=0.75,\n",
    "            saturation=2.\n",
    "           )\n",
    "plt.ylim(-0.03,0.03)\n",
    "plt.grid(alpha=0.33)\n",
    "plt.xlabel('Frequency bins')\n",
    "plt.ylabel('Selection estimate minus truth')\n",
    "plt.legend(title='cM threshold',\n",
    "           ncol=3,\n",
    "          )\n",
    "\n",
    "plt.axhline(0,color='k',alpha=0.33)\n",
    "\n",
    "plt.tight_layout()"
   ]
  },
  {
   "cell_type": "code",
   "execution_count": 27,
   "id": "437b72ec-2089-4548-8f0e-58ecac419cdb",
   "metadata": {},
   "outputs": [
    {
     "data": {
      "text/plain": [
       "<matplotlib.lines.Line2D at 0x7fb095d40ef0>"
      ]
     },
     "execution_count": 27,
     "metadata": {},
     "output_type": "execute_result"
    },
    {
     "data": {
      "image/png": "[encoded data removed]",
      "text/plain": [
       "<Figure size 640x480 with 1 Axes>"
      ]
     },
     "metadata": {},
     "output_type": "display_data"
    }
   ],
   "source": [
    "table321['diff'] = table321['mid_est'] - table321['selcoef']\n",
    "sns.boxplot(table321,\n",
    "            x='selcoef',\n",
    "            y='diff',\n",
    "            hue='length',\n",
    "            palette='summer',\n",
    "            showfliers=False,\n",
    "            gap=0.1,\n",
    "            width=0.75,\n",
    "            saturation=2.\n",
    "           )\n",
    "plt.ylim(-0.03,0.03)\n",
    "plt.grid(alpha=0.33)\n",
    "plt.xlabel('Selection coefficient')\n",
    "plt.ylabel('Selection estimate minus truth')\n",
    "plt.legend(title='cM threshold',\n",
    "           ncol=3,\n",
    "          )\n",
    "\n",
    "plt.axhline(0,color='k',alpha=0.33)"
   ]
  },
  {
   "cell_type": "code",
   "execution_count": 46,
   "id": "fb152c2d-8838-4c0e-8c7b-2af3ba34453b",
   "metadata": {},
   "outputs": [
    {
     "data": {
      "image/png": "[encoded data removed]",
      "text/plain": [
       "<Figure size 640x480 with 1 Axes>"
      ]
     },
     "metadata": {},
     "output_type": "display_data"
    }
   ],
   "source": [
    "table321['diff'] = table321['mid_est'] - table321['selcoef']\n",
    "subtable321 = table321[table321['length']==3.]\n",
    "sns.boxplot(subtable321,\n",
    "            x='freqbins',\n",
    "            y='diff',\n",
    "            hue='selcoef',\n",
    "            palette='Wistia',\n",
    "            showfliers=False,\n",
    "            gap=0.1,\n",
    "            width=0.75,\n",
    "            saturation=2.\n",
    "           )\n",
    "plt.ylim(-0.03,0.03)\n",
    "plt.grid(alpha=0.33)\n",
    "plt.xlabel('Frequency bins')\n",
    "# plt.xticks(fontsize=12)\n",
    "plt.ylabel('Selection estimate minus truth')\n",
    "plt.legend(title='Selection coefficient',\n",
    "           ncol=3,\n",
    "          )\n",
    "\n",
    "plt.axhline(0,color='k',alpha=0.33)\n",
    "\n",
    "plt.tight_layout()"
   ]
  },
  {
   "cell_type": "code",
   "execution_count": 48,
   "id": "79e41a45-541d-4d85-82b2-8220922e3a7c",
   "metadata": {},
   "outputs": [
    {
     "data": {
      "image/png": "[encoded data removed]",
      "text/plain": [
       "<Figure size 640x480 with 1 Axes>"
      ]
     },
     "metadata": {},
     "output_type": "display_data"
    }
   ],
   "source": [
    "sns.boxplot(table321,\n",
    "            x='selcoef',\n",
    "            y='mid_est',\n",
    "            hue='length',\n",
    "            palette='summer',\n",
    "            showfliers=False,\n",
    "            gap=0.1,\n",
    "            width=0.75,\n",
    "            saturation=2.\n",
    "           )\n",
    "plt.ylim(0.0,0.06)\n",
    "plt.grid(alpha=0.33)\n",
    "plt.xlabel('Selection coefficient')\n",
    "plt.ylabel('Estimate')\n",
    "plt.legend(title='cM threshold')\n",
    "\n",
    "# plt.axhline(0.03,0.51,0.67,linestyle='dotted',color='tab:green',linewidth=3)\n",
    "plt.axhline(0.035,0.6,0.8,linestyle='solid',color='tab:brown',linewidth=2,alpha=0.75)\n",
    "plt.axhline(0.04,0.8,1.,linestyle='solid',color='tab:brown',linewidth=2,alpha=0.75)\n",
    "plt.axhline(0.03,0.4,0.6,linestyle='solid',color='tab:brown',linewidth=2,alpha=0.75)\n",
    "plt.axhline(0.025,0.2,0.4,linestyle='solid',color='tab:brown',linewidth=2,alpha=0.75)\n",
    "plt.axhline(0.02,0.,0.2,linestyle='solid',color='tab:brown',linewidth=2,alpha=0.75)"
   ]
  },
  {
   "cell_type": "markdown",
   "id": "f630de1f-350e-4d68-8225-25f70b0e7e89",
   "metadata": {},
   "source": [
    "## Making tables"
   ]
  },
  {
   "cell_type": "code",
   "execution_count": 202,
   "id": "cbcb4138-5b0a-4967-9536-81a83aa1199d",
   "metadata": {},
   "outputs": [
    {
     "name": "stderr",
     "output_type": "stream",
     "text": [
      "/tmp/ipykernel_59707/983296887.py:2: SettingWithCopyWarning: \n",
      "A value is trying to be set on a copy of a slice from a DataFrame.\n",
      "Try using .loc[row_indexer,col_indexer] = value instead\n",
      "\n",
      "See the caveats in the documentation: https://pandas.pydata.org/pandas-docs/stable/user_guide/indexing.html#returning-a-view-versus-a-copy\n",
      "  tabletable['covered'] = (tabletable['low_est'] <= tabletable['selcoef']) & (tabletable['upp_est'] >= tabletable['selcoef'])\n",
      "/tmp/ipykernel_59707/983296887.py:3: SettingWithCopyWarning: \n",
      "A value is trying to be set on a copy of a slice from a DataFrame.\n",
      "Try using .loc[row_indexer,col_indexer] = value instead\n",
      "\n",
      "See the caveats in the documentation: https://pandas.pydata.org/pandas-docs/stable/user_guide/indexing.html#returning-a-view-versus-a-copy\n",
      "  tabletable['width'] = tabletable['upp_est'] - tabletable['low_est']\n"
     ]
    }
   ],
   "source": [
    "tabletable = table3[table3['method']=='True frequency, location']\n",
    "tabletable['covered'] = (tabletable['low_est'] <= tabletable['selcoef']) & (tabletable['upp_est'] >= tabletable['selcoef'])\n",
    "tabletable['width'] = tabletable['upp_est'] - tabletable['low_est']"
   ]
  },
  {
   "cell_type": "code",
   "execution_count": 6,
   "id": "521305fb-bf2d-4afd-b946-f82b56cb525a",
   "metadata": {},
   "outputs": [
    {
     "data": {
      "text/plain": [
       "1394"
      ]
     },
     "execution_count": 6,
     "metadata": {},
     "output_type": "execute_result"
    }
   ],
   "source": [
    "subtable=table.dropna()\n",
    "subtable.shape[0]"
   ]
  },
  {
   "cell_type": "code",
   "execution_count": 8,
   "id": "37135e03-a6cc-46e5-8d8d-6921f887ceff",
   "metadata": {},
   "outputs": [],
   "source": [
    "core = [0,1,3]\n",
    "sub1 = [2,4,5,6] + core\n",
    "sub2 = [8,10,11,12] + core\n",
    "sub3 = [14,16,17,18] + core"
   ]
  },
  {
   "cell_type": "code",
   "execution_count": 14,
   "id": "6faac0ec-8847-4149-a08f-a90939a390a8",
   "metadata": {},
   "outputs": [
    {
     "data": {
      "text/plain": [
       "((1394, 7), (1394, 7), (1394, 7))"
      ]
     },
     "execution_count": 14,
     "metadata": {},
     "output_type": "execute_result"
    }
   ],
   "source": [
    "subtable1 = subtable[sub1]\n",
    "subtable2 = subtable[sub2]\n",
    "subtable3 = subtable[sub3]\n",
    "subtable1.columns= [i for i in range(7)]\n",
    "subtable2.columns= [i for i in range(7)]\n",
    "subtable3.columns= [i for i in range(7)]\n",
    "subtable1.shape,subtable2.shape,subtable3.shape"
   ]
  },
  {
   "cell_type": "code",
   "execution_count": 28,
   "id": "70f902c7-fbe1-46c4-be5c-dcf0edacb619",
   "metadata": {},
   "outputs": [],
   "source": [
    "finaltable = pd.concat((subtable1,subtable2,subtable3))\n",
    "finaltable.columns = ['cm','est','low','upp','selcoef','time','freq']\n",
    "finalsubtable = finaltable[finaltable['selcoef'].isin([0.01,0.02,0.03,0.04])]"
   ]
  },
  {
   "cell_type": "code",
   "execution_count": 29,
   "id": "01ff9fb7-692b-447a-ae98-c23fba929ff6",
   "metadata": {},
   "outputs": [
    {
     "data": {
      "text/html": [
       "<div>\n",
       "<style scoped>\n",
       "    .dataframe tbody tr th:only-of-type {\n",
       "        vertical-align: middle;\n",
       "    }\n",
       "\n",
       "    .dataframe tbody tr th {\n",
       "        vertical-align: top;\n",
       "    }\n",
       "\n",
       "    .dataframe thead th {\n",
       "        text-align: right;\n",
       "    }\n",
       "</style>\n",
       "<table border=\"1\" class=\"dataframe\">\n",
       "  <thead>\n",
       "    <tr style=\"text-align: right;\">\n",
       "      <th></th>\n",
       "      <th>cm</th>\n",
       "      <th>est</th>\n",
       "      <th>low</th>\n",
       "      <th>upp</th>\n",
       "      <th>selcoef</th>\n",
       "      <th>time</th>\n",
       "      <th>freq</th>\n",
       "    </tr>\n",
       "  </thead>\n",
       "  <tbody>\n",
       "    <tr>\n",
       "      <th>0</th>\n",
       "      <td>1.0</td>\n",
       "      <td>0.029091</td>\n",
       "      <td>0.018059</td>\n",
       "      <td>0.040124</td>\n",
       "      <td>0.04</td>\n",
       "      <td>200</td>\n",
       "      <td>0.1891</td>\n",
       "    </tr>\n",
       "    <tr>\n",
       "      <th>1</th>\n",
       "      <td>1.0</td>\n",
       "      <td>0.035350</td>\n",
       "      <td>0.01959</td>\n",
       "      <td>0.051110</td>\n",
       "      <td>0.04</td>\n",
       "      <td>200</td>\n",
       "      <td>0.1330</td>\n",
       "    </tr>\n",
       "    <tr>\n",
       "      <th>2</th>\n",
       "      <td>1.0</td>\n",
       "      <td>0.025259</td>\n",
       "      <td>0.014967</td>\n",
       "      <td>0.035552</td>\n",
       "      <td>0.04</td>\n",
       "      <td>200</td>\n",
       "      <td>0.2272</td>\n",
       "    </tr>\n",
       "    <tr>\n",
       "      <th>3</th>\n",
       "      <td>1.0</td>\n",
       "      <td>0.026730</td>\n",
       "      <td>0.015308</td>\n",
       "      <td>0.038152</td>\n",
       "      <td>0.04</td>\n",
       "      <td>200</td>\n",
       "      <td>0.1265</td>\n",
       "    </tr>\n",
       "    <tr>\n",
       "      <th>4</th>\n",
       "      <td>1.0</td>\n",
       "      <td>0.025557</td>\n",
       "      <td>0.013414</td>\n",
       "      <td>0.037699</td>\n",
       "      <td>0.04</td>\n",
       "      <td>200</td>\n",
       "      <td>0.2021</td>\n",
       "    </tr>\n",
       "  </tbody>\n",
       "</table>\n",
       "</div>"
      ],
      "text/plain": [
       "    cm       est       low       upp  selcoef  time    freq\n",
       "0  1.0  0.029091  0.018059  0.040124     0.04   200  0.1891\n",
       "1  1.0  0.035350   0.01959  0.051110     0.04   200  0.1330\n",
       "2  1.0  0.025259  0.014967  0.035552     0.04   200  0.2272\n",
       "3  1.0  0.026730  0.015308  0.038152     0.04   200  0.1265\n",
       "4  1.0  0.025557  0.013414  0.037699     0.04   200  0.2021"
      ]
     },
     "execution_count": 29,
     "metadata": {},
     "output_type": "execute_result"
    }
   ],
   "source": [
    "finaltable.head()"
   ]
  },
  {
   "cell_type": "markdown",
   "id": "e49fc1c9-239d-42d8-969e-434910a58809",
   "metadata": {},
   "source": [
    "### The detection threshold is cM 3.0"
   ]
  },
  {
   "cell_type": "code",
   "execution_count": 62,
   "id": "0eaba6ec-037a-4050-a76a-f315cd71815e",
   "metadata": {},
   "outputs": [
    {
     "data": {
      "text/html": [
       "<div>\n",
       "<style scoped>\n",
       "    .dataframe tbody tr th:only-of-type {\n",
       "        vertical-align: middle;\n",
       "    }\n",
       "\n",
       "    .dataframe tbody tr th {\n",
       "        vertical-align: top;\n",
       "    }\n",
       "\n",
       "    .dataframe thead th {\n",
       "        text-align: right;\n",
       "    }\n",
       "</style>\n",
       "<table border=\"1\" class=\"dataframe\">\n",
       "  <thead>\n",
       "    <tr style=\"text-align: right;\">\n",
       "      <th></th>\n",
       "      <th>cm</th>\n",
       "      <th>est</th>\n",
       "      <th>low</th>\n",
       "      <th>upp</th>\n",
       "      <th>selcoef</th>\n",
       "      <th>time</th>\n",
       "      <th>freq</th>\n",
       "      <th>diff</th>\n",
       "      <th>absdiff</th>\n",
       "      <th>covered</th>\n",
       "      <th>width</th>\n",
       "    </tr>\n",
       "  </thead>\n",
       "  <tbody>\n",
       "    <tr>\n",
       "      <th>1395</th>\n",
       "      <td>3.0</td>\n",
       "      <td>0.016480</td>\n",
       "      <td>0.010303</td>\n",
       "      <td>0.022656</td>\n",
       "      <td>0.015</td>\n",
       "      <td>375.0</td>\n",
       "      <td>0.3488</td>\n",
       "      <td>0.001480</td>\n",
       "      <td>0.001480</td>\n",
       "      <td>True</td>\n",
       "      <td>0.012353</td>\n",
       "    </tr>\n",
       "    <tr>\n",
       "      <th>1396</th>\n",
       "      <td>3.0</td>\n",
       "      <td>0.020308</td>\n",
       "      <td>0.013591</td>\n",
       "      <td>0.027024</td>\n",
       "      <td>0.015</td>\n",
       "      <td>375.0</td>\n",
       "      <td>0.1927</td>\n",
       "      <td>0.005308</td>\n",
       "      <td>0.005308</td>\n",
       "      <td>True</td>\n",
       "      <td>0.013433</td>\n",
       "    </tr>\n",
       "    <tr>\n",
       "      <th>1397</th>\n",
       "      <td>3.0</td>\n",
       "      <td>0.022759</td>\n",
       "      <td>0.013420</td>\n",
       "      <td>0.032098</td>\n",
       "      <td>0.015</td>\n",
       "      <td>375.0</td>\n",
       "      <td>0.1312</td>\n",
       "      <td>0.007759</td>\n",
       "      <td>0.007759</td>\n",
       "      <td>True</td>\n",
       "      <td>0.018678</td>\n",
       "    </tr>\n",
       "    <tr>\n",
       "      <th>1398</th>\n",
       "      <td>3.0</td>\n",
       "      <td>0.014744</td>\n",
       "      <td>0.002333</td>\n",
       "      <td>0.027155</td>\n",
       "      <td>0.015</td>\n",
       "      <td>375.0</td>\n",
       "      <td>0.1718</td>\n",
       "      <td>-0.000256</td>\n",
       "      <td>0.000256</td>\n",
       "      <td>True</td>\n",
       "      <td>0.024822</td>\n",
       "    </tr>\n",
       "    <tr>\n",
       "      <th>1399</th>\n",
       "      <td>3.0</td>\n",
       "      <td>0.009693</td>\n",
       "      <td>-0.000422</td>\n",
       "      <td>0.019808</td>\n",
       "      <td>0.015</td>\n",
       "      <td>375.0</td>\n",
       "      <td>0.3176</td>\n",
       "      <td>-0.005307</td>\n",
       "      <td>0.005307</td>\n",
       "      <td>True</td>\n",
       "      <td>0.020229</td>\n",
       "    </tr>\n",
       "  </tbody>\n",
       "</table>\n",
       "</div>"
      ],
      "text/plain": [
       "       cm       est       low       upp  selcoef   time    freq      diff  \\\n",
       "1395  3.0  0.016480  0.010303  0.022656    0.015  375.0  0.3488  0.001480   \n",
       "1396  3.0  0.020308  0.013591  0.027024    0.015  375.0  0.1927  0.005308   \n",
       "1397  3.0  0.022759  0.013420  0.032098    0.015  375.0  0.1312  0.007759   \n",
       "1398  3.0  0.014744  0.002333  0.027155    0.015  375.0  0.1718 -0.000256   \n",
       "1399  3.0  0.009693 -0.000422  0.019808    0.015  375.0  0.3176 -0.005307   \n",
       "\n",
       "       absdiff  covered     width  \n",
       "1395  0.001480     True  0.012353  \n",
       "1396  0.005308     True  0.013433  \n",
       "1397  0.007759     True  0.018678  \n",
       "1398  0.000256     True  0.024822  \n",
       "1399  0.005307     True  0.020229  "
      ]
     },
     "execution_count": 62,
     "metadata": {},
     "output_type": "execute_result"
    }
   ],
   "source": [
    "covtable = finaltable[finaltable['cm']==3.0]\n",
    "covtable = covtable.astype('float')\n",
    "covtable['diff'] = covtable['est'] - covtable['selcoef']\n",
    "covtable['absdiff'] = covtable['diff'].abs()\n",
    "covtable['covered'] = (covtable['low']<=covtable['selcoef'])&(covtable['upp']>=covtable['selcoef'])\n",
    "covtable['width'] = covtable['upp'] - covtable['low']\n",
    "covtable.tail()"
   ]
  },
  {
   "cell_type": "code",
   "execution_count": 54,
   "id": "010d2059-b382-46ad-894b-38d0d9a81468",
   "metadata": {},
   "outputs": [
    {
     "data": {
      "text/plain": [
       "selcoef  time\n",
       "0.010    350     0.014858\n",
       "         400     0.014742\n",
       "0.015    325     0.017166\n",
       "         375     0.017690\n",
       "0.020    250     0.022909\n",
       "         300     0.021692\n",
       "0.025    275     0.026180\n",
       "         325     0.026083\n",
       "0.030    250     0.030388\n",
       "         300     0.030510\n",
       "0.035    225     0.035839\n",
       "         275     0.034522\n",
       "0.040    200     0.040952\n",
       "         250     0.039130\n",
       "Name: est, dtype: float64"
      ]
     },
     "execution_count": 54,
     "metadata": {},
     "output_type": "execute_result"
    }
   ],
   "source": [
    "covtable.groupby(['selcoef','time'])['est'].mean()"
   ]
  },
  {
   "cell_type": "code",
   "execution_count": 55,
   "id": "5bf845d1-9df1-46af-a113-b826346ff69d",
   "metadata": {},
   "outputs": [
    {
     "data": {
      "text/plain": [
       "selcoef  time\n",
       "0.010    350     0.006254\n",
       "         400     0.006414\n",
       "0.015    325     0.004293\n",
       "         375     0.003769\n",
       "0.020    250     0.003575\n",
       "         300     0.002238\n",
       "0.025    275     0.001870\n",
       "         325     0.001476\n",
       "0.030    250     0.001425\n",
       "         300     0.001110\n",
       "0.035    225     0.001798\n",
       "         275     0.001216\n",
       "0.040    200     0.002084\n",
       "         250     0.001711\n",
       "Name: absdiff, dtype: float64"
      ]
     },
     "execution_count": 55,
     "metadata": {},
     "output_type": "execute_result"
    }
   ],
   "source": [
    "covtable.groupby(['selcoef','time'])['absdiff'].mean()"
   ]
  },
  {
   "cell_type": "code",
   "execution_count": 61,
   "id": "35edca1f-5ad7-450e-90f6-2f0474a5c2d1",
   "metadata": {},
   "outputs": [
    {
     "data": {
      "text/plain": [
       "selcoef  time \n",
       "0.010    350.0    0.854167\n",
       "         400.0    0.808081\n",
       "0.015    325.0    0.870000\n",
       "         375.0    0.828283\n",
       "0.020    250.0    0.880000\n",
       "         300.0    0.910000\n",
       "0.025    275.0    0.990000\n",
       "         325.0    0.980000\n",
       "0.030    250.0    1.000000\n",
       "         300.0    0.990000\n",
       "0.035    225.0    0.970000\n",
       "         275.0    0.990000\n",
       "0.040    200.0    1.000000\n",
       "         250.0    0.980000\n",
       "Name: covered, dtype: float64"
      ]
     },
     "execution_count": 61,
     "metadata": {},
     "output_type": "execute_result"
    }
   ],
   "source": [
    "covtable.groupby(['selcoef','time'])['covered'].mean()"
   ]
  },
  {
   "cell_type": "code",
   "execution_count": 63,
   "id": "a0d14201-ac96-45b0-807b-99b769a7b0b5",
   "metadata": {},
   "outputs": [
    {
     "data": {
      "text/plain": [
       "selcoef  time \n",
       "0.010    350.0    0.024166\n",
       "         400.0    0.022209\n",
       "0.015    325.0    0.019615\n",
       "         375.0    0.015980\n",
       "0.020    250.0    0.018798\n",
       "         300.0    0.013212\n",
       "0.025    275.0    0.009010\n",
       "         325.0    0.006759\n",
       "0.030    250.0    0.009220\n",
       "         300.0    0.006772\n",
       "0.035    225.0    0.011105\n",
       "         275.0    0.007623\n",
       "0.040    200.0    0.013808\n",
       "         250.0    0.009381\n",
       "Name: width, dtype: float64"
      ]
     },
     "execution_count": 63,
     "metadata": {},
     "output_type": "execute_result"
    }
   ],
   "source": [
    "covtable.groupby(['selcoef','time'])['width'].mean()"
   ]
  },
  {
   "cell_type": "markdown",
   "id": "c38ae108-886e-4522-83b3-c110745ca3fb",
   "metadata": {},
   "source": [
    "### The detection threshold is cM 2.0"
   ]
  },
  {
   "cell_type": "code",
   "execution_count": 64,
   "id": "18599150-257f-4d76-b509-db254b215c0d",
   "metadata": {},
   "outputs": [
    {
     "data": {
      "text/html": [
       "<div>\n",
       "<style scoped>\n",
       "    .dataframe tbody tr th:only-of-type {\n",
       "        vertical-align: middle;\n",
       "    }\n",
       "\n",
       "    .dataframe tbody tr th {\n",
       "        vertical-align: top;\n",
       "    }\n",
       "\n",
       "    .dataframe thead th {\n",
       "        text-align: right;\n",
       "    }\n",
       "</style>\n",
       "<table border=\"1\" class=\"dataframe\">\n",
       "  <thead>\n",
       "    <tr style=\"text-align: right;\">\n",
       "      <th></th>\n",
       "      <th>cm</th>\n",
       "      <th>est</th>\n",
       "      <th>low</th>\n",
       "      <th>upp</th>\n",
       "      <th>selcoef</th>\n",
       "      <th>time</th>\n",
       "      <th>freq</th>\n",
       "      <th>diff</th>\n",
       "      <th>absdiff</th>\n",
       "      <th>covered</th>\n",
       "      <th>width</th>\n",
       "    </tr>\n",
       "  </thead>\n",
       "  <tbody>\n",
       "    <tr>\n",
       "      <th>1395</th>\n",
       "      <td>2.0</td>\n",
       "      <td>0.016709</td>\n",
       "      <td>0.013562</td>\n",
       "      <td>0.019855</td>\n",
       "      <td>0.015</td>\n",
       "      <td>375.0</td>\n",
       "      <td>0.3488</td>\n",
       "      <td>0.001709</td>\n",
       "      <td>0.001709</td>\n",
       "      <td>True</td>\n",
       "      <td>0.006293</td>\n",
       "    </tr>\n",
       "    <tr>\n",
       "      <th>1396</th>\n",
       "      <td>2.0</td>\n",
       "      <td>0.016382</td>\n",
       "      <td>0.012643</td>\n",
       "      <td>0.020120</td>\n",
       "      <td>0.015</td>\n",
       "      <td>375.0</td>\n",
       "      <td>0.1927</td>\n",
       "      <td>0.001382</td>\n",
       "      <td>0.001382</td>\n",
       "      <td>True</td>\n",
       "      <td>0.007477</td>\n",
       "    </tr>\n",
       "    <tr>\n",
       "      <th>1397</th>\n",
       "      <td>2.0</td>\n",
       "      <td>0.016884</td>\n",
       "      <td>0.013021</td>\n",
       "      <td>0.020748</td>\n",
       "      <td>0.015</td>\n",
       "      <td>375.0</td>\n",
       "      <td>0.1312</td>\n",
       "      <td>0.001884</td>\n",
       "      <td>0.001884</td>\n",
       "      <td>True</td>\n",
       "      <td>0.007727</td>\n",
       "    </tr>\n",
       "    <tr>\n",
       "      <th>1398</th>\n",
       "      <td>2.0</td>\n",
       "      <td>0.014555</td>\n",
       "      <td>0.010758</td>\n",
       "      <td>0.018352</td>\n",
       "      <td>0.015</td>\n",
       "      <td>375.0</td>\n",
       "      <td>0.1718</td>\n",
       "      <td>-0.000445</td>\n",
       "      <td>0.000445</td>\n",
       "      <td>True</td>\n",
       "      <td>0.007593</td>\n",
       "    </tr>\n",
       "    <tr>\n",
       "      <th>1399</th>\n",
       "      <td>2.0</td>\n",
       "      <td>0.014153</td>\n",
       "      <td>0.011614</td>\n",
       "      <td>0.016691</td>\n",
       "      <td>0.015</td>\n",
       "      <td>375.0</td>\n",
       "      <td>0.3176</td>\n",
       "      <td>-0.000847</td>\n",
       "      <td>0.000847</td>\n",
       "      <td>True</td>\n",
       "      <td>0.005077</td>\n",
       "    </tr>\n",
       "  </tbody>\n",
       "</table>\n",
       "</div>"
      ],
      "text/plain": [
       "       cm       est       low       upp  selcoef   time    freq      diff  \\\n",
       "1395  2.0  0.016709  0.013562  0.019855    0.015  375.0  0.3488  0.001709   \n",
       "1396  2.0  0.016382  0.012643  0.020120    0.015  375.0  0.1927  0.001382   \n",
       "1397  2.0  0.016884  0.013021  0.020748    0.015  375.0  0.1312  0.001884   \n",
       "1398  2.0  0.014555  0.010758  0.018352    0.015  375.0  0.1718 -0.000445   \n",
       "1399  2.0  0.014153  0.011614  0.016691    0.015  375.0  0.3176 -0.000847   \n",
       "\n",
       "       absdiff  covered     width  \n",
       "1395  0.001709     True  0.006293  \n",
       "1396  0.001382     True  0.007477  \n",
       "1397  0.001884     True  0.007727  \n",
       "1398  0.000445     True  0.007593  \n",
       "1399  0.000847     True  0.005077  "
      ]
     },
     "execution_count": 64,
     "metadata": {},
     "output_type": "execute_result"
    }
   ],
   "source": [
    "covtable2 = finaltable[finaltable['cm']==2.0]\n",
    "covtable2 = covtable2.astype('float')\n",
    "covtable2['diff'] = covtable2['est'] - covtable2['selcoef']\n",
    "covtable2['absdiff'] = covtable2['diff'].abs()\n",
    "covtable2['covered'] = (covtable2['low']<=covtable2['selcoef'])&(covtable2['upp']>=covtable2['selcoef'])\n",
    "covtable2['width'] = covtable2['upp'] - covtable2['low']\n",
    "covtable2.tail()"
   ]
  },
  {
   "cell_type": "code",
   "execution_count": 65,
   "id": "e51944e3-867c-495d-89ca-1719cf94ccf4",
   "metadata": {},
   "outputs": [
    {
     "data": {
      "text/plain": [
       "selcoef  time \n",
       "0.010    350.0    0.012209\n",
       "         400.0    0.011958\n",
       "0.015    325.0    0.015321\n",
       "         375.0    0.015087\n",
       "0.020    250.0    0.022059\n",
       "         300.0    0.019661\n",
       "0.025    275.0    0.023972\n",
       "         325.0    0.022347\n",
       "0.030    250.0    0.027040\n",
       "         300.0    0.025741\n",
       "0.035    225.0    0.032307\n",
       "         275.0    0.028879\n",
       "0.040    200.0    0.038002\n",
       "         250.0    0.032573\n",
       "Name: est, dtype: float64"
      ]
     },
     "execution_count": 65,
     "metadata": {},
     "output_type": "execute_result"
    }
   ],
   "source": [
    "covtable2.groupby(['selcoef','time'])['est'].mean()"
   ]
  },
  {
   "cell_type": "code",
   "execution_count": 66,
   "id": "1643facf-39ed-482f-93db-09b752bfc725",
   "metadata": {},
   "outputs": [
    {
     "data": {
      "text/plain": [
       "selcoef  time \n",
       "0.010    350.0    0.002418\n",
       "         400.0    0.002082\n",
       "0.015    325.0    0.001126\n",
       "         375.0    0.001070\n",
       "0.020    250.0    0.002620\n",
       "         300.0    0.001271\n",
       "0.025    275.0    0.002021\n",
       "         325.0    0.002868\n",
       "0.030    250.0    0.003373\n",
       "         300.0    0.004284\n",
       "0.035    225.0    0.003479\n",
       "         275.0    0.006121\n",
       "0.040    200.0    0.003475\n",
       "         250.0    0.007516\n",
       "Name: absdiff, dtype: float64"
      ]
     },
     "execution_count": 66,
     "metadata": {},
     "output_type": "execute_result"
    }
   ],
   "source": [
    "covtable2.groupby(['selcoef','time'])['absdiff'].mean()"
   ]
  },
  {
   "cell_type": "code",
   "execution_count": 67,
   "id": "f37edfd8-056c-44d4-b308-822782d9c8c0",
   "metadata": {},
   "outputs": [
    {
     "data": {
      "text/plain": [
       "selcoef  time \n",
       "0.010    350.0    0.864583\n",
       "         400.0    0.909091\n",
       "0.015    325.0    1.000000\n",
       "         375.0    0.989899\n",
       "0.020    250.0    0.950000\n",
       "         300.0    0.980000\n",
       "0.025    275.0    0.960000\n",
       "         325.0    0.640000\n",
       "0.030    250.0    0.820000\n",
       "         300.0    0.440000\n",
       "0.035    225.0    0.900000\n",
       "         275.0    0.270000\n",
       "0.040    200.0    0.970000\n",
       "         250.0    0.220000\n",
       "Name: covered, dtype: float64"
      ]
     },
     "execution_count": 67,
     "metadata": {},
     "output_type": "execute_result"
    }
   ],
   "source": [
    "covtable2.groupby(['selcoef','time'])['covered'].mean()"
   ]
  },
  {
   "cell_type": "code",
   "execution_count": 68,
   "id": "8d85b554-e8ab-4358-b2c2-d2bc2896e735",
   "metadata": {},
   "outputs": [
    {
     "data": {
      "text/plain": [
       "selcoef  time \n",
       "0.010    350.0    0.008799\n",
       "         400.0    0.007592\n",
       "0.015    325.0    0.007968\n",
       "         375.0    0.006845\n",
       "0.020    250.0    0.011418\n",
       "         300.0    0.008865\n",
       "0.025    275.0    0.010460\n",
       "         325.0    0.007532\n",
       "0.030    250.0    0.011682\n",
       "         300.0    0.008694\n",
       "0.035    225.0    0.014758\n",
       "         275.0    0.010259\n",
       "0.040    200.0    0.018205\n",
       "         250.0    0.011948\n",
       "Name: width, dtype: float64"
      ]
     },
     "execution_count": 68,
     "metadata": {},
     "output_type": "execute_result"
    }
   ],
   "source": [
    "covtable2.groupby(['selcoef','time'])['width'].mean()"
   ]
  }
 ],
 "metadata": {
  "kernelspec": {
   "display_name": "Python 3 (ipykernel)",
   "language": "python",
   "name": "python3"
  },
  "language_info": {
   "codemirror_mode": {
    "name": "ipython",
    "version": 3
   },
   "file_extension": ".py",
   "mimetype": "text/x-python",
   "name": "python",
   "nbconvert_exporter": "python",
   "pygments_lexer": "ipython3",
   "version": "3.12.0"
  }
 },
 "nbformat": 4,
 "nbformat_minor": 5
}
