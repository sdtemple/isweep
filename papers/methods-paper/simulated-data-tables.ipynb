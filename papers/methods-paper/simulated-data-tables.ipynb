{
 "cells": [
  {
   "cell_type": "markdown",
   "id": "55acf2a1-6b01-4dc5-99f1-0732ab6653f0",
   "metadata": {},
   "source": [
    "### This is in general the code I use to make tabular calculations"
   ]
  },
  {
   "cell_type": "code",
   "execution_count": null,
   "id": "41256561-f7d9-4bc1-b524-7ba17baadd30",
   "metadata": {},
   "outputs": [],
   "source": [
    "import scipy.stats as stats\n",
    "import numpy as np\n",
    "import pandas as pd"
   ]
  },
  {
   "cell_type": "code",
   "execution_count": null,
   "id": "0c2473f9-3007-44ff-b42d-4e302881d484",
   "metadata": {},
   "outputs": [],
   "source": [
    "maintable1 = pd.read_csv('just.bottle.tsv',sep='\\t')\n",
    "maintable2 = pd.read_csv('extr-inf-bottle.isweep.tsv',sep='\\t')\n",
    "maintable = pd.concat((maintable1,maintable2))\n",
    "maintable['diff'] = maintable['iselcoef'] - maintable['tselcoef']\n",
    "maintable['absdiff'] = maintable['diff'].abs()\n",
    "maintable['covered'] = (maintable['lowselcoef']<=maintable['tselcoef'])&(maintable['uppselcoef']>=maintable['tselcoef'])\n",
    "maintable['width'] = maintable['uppselcoef'] - maintable['lowselcoef']\n",
    "maintable.tail()"
   ]
  },
  {
   "cell_type": "code",
   "execution_count": null,
   "id": "7f0121b0-e918-460f-a1ef-e44c2774a495",
   "metadata": {},
   "outputs": [],
   "source": [
    "maintable.groupby(['tselcoef','subfolder'])['iselcoef'].mean()"
   ]
  },
  {
   "cell_type": "code",
   "execution_count": null,
   "id": "2e9e65d4-105a-4e56-9011-f1a40d950efb",
   "metadata": {},
   "outputs": [],
   "source": [
    "maintable.groupby(['tselcoef','subfolder'])['absdiff'].mean()"
   ]
  },
  {
   "cell_type": "code",
   "execution_count": null,
   "id": "74a67f08-7cde-493b-8f92-4c3c901de05e",
   "metadata": {},
   "outputs": [],
   "source": [
    "maintable.groupby(['tselcoef','subfolder'])['covered'].mean()"
   ]
  },
  {
   "cell_type": "code",
   "execution_count": null,
   "id": "603be60d-5d4a-47cc-bd13-323ef1717261",
   "metadata": {},
   "outputs": [],
   "source": [
    "maintable.groupby(['tselcoef','subfolder'])['width'].mean()"
   ]
  },
  {
   "cell_type": "code",
   "execution_count": null,
   "id": "8be148e4-193f-436f-99a9-1f50166829e1",
   "metadata": {},
   "outputs": [],
   "source": []
  }
 ],
 "metadata": {
  "kernelspec": {
   "display_name": "Python 3 (ipykernel)",
   "language": "python",
   "name": "python3"
  },
  "language_info": {
   "codemirror_mode": {
    "name": "ipython",
    "version": 3
   },
   "file_extension": ".py",
   "mimetype": "text/x-python",
   "name": "python",
   "nbconvert_exporter": "python",
   "pygments_lexer": "ipython3",
   "version": "3.12.0"
  }
 },
 "nbformat": 4,
 "nbformat_minor": 5
}
